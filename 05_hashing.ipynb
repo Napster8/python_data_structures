{
 "cells": [
  {
   "cell_type": "markdown",
   "id": "9a0b955a-6578-4544-97bd-54f1d3a8c5fe",
   "metadata": {},
   "source": [
    "# Hashing or Hash Tables\n",
    "\n",
    "A `hash table` is a data structure where elements are accessed by a keyword rather than an index number, unlike in lists and arrays. \n",
    "\n",
    "In this data structure, the data items are stored in `key-value` pairs i.e. dictionaries.\n",
    "\n",
    "### Advantages:\n",
    "- Search, Insert and Delete operations O(1) Time Complexity on an average.\n",
    "\n",
    "### Not useful when:\n",
    "\n",
    "1. Finding closest value.\n",
    "2. Sorted Data. - Order is not maintained in dictionary keys.\n",
    "3. Prefix Searching.\n",
    "    \n",
    "**Note:** For `1` and `2`, we can use AVL Tree or Red-Black Tree. or Cell Balancing Binary Search Trees.\n",
    "      \n"
   ]
  },
  {
   "cell_type": "markdown",
   "id": "4c3b5877-e276-4a3f-806c-ded715a6ff19",
   "metadata": {},
   "source": [
    "### Applications Of Hashing:\n",
    "\n",
    "1. Dictionaries.\n",
    "2. Database Indexing.\n",
    "3. Cryptography.\n",
    "4. Caches.\n",
    "5. Symbol Tables in Compilers / Interpretors.\n",
    "6. Rosters.\n",
    "\n",
    "### How Hash Functions Work?\n",
    "\n",
    "- Should always map a large key to same small key. - i.e. generate `unique` short keys.\n",
    "- Should generate values from 0 to m-1.\n",
    "- Should be fast, O(1) for integers and O(len) for strings of length 'len'.\n",
    "- Should uniformly distribute large keys into Hash Table Slots.\n",
    "\n",
    "#### `Example`: \n",
    "\n",
    "For `phone numbers` which are generally large keys. We convert them to smaller keys and store them for searching.\n",
    "\n",
    "1. The `Hash Table size` for this application is proportional to the number of keys you are going to insert. "
   ]
  },
  {
   "cell_type": "code",
   "execution_count": 6,
   "id": "ccc1b850-a285-42b1-9133-f014f683ff89",
   "metadata": {},
   "outputs": [
    {
     "name": "stdout",
     "output_type": "stream",
     "text": [
      "Number of keys = 10\n"
     ]
    },
    {
     "data": {
      "text/plain": [
       "[1, 0, 6, 3, 1, 0, 0, 1, 2, 4]"
      ]
     },
     "execution_count": 6,
     "metadata": {},
     "output_type": "execute_result"
    }
   ],
   "source": [
    "keys = [50, 21, 48, 17, 15, 49, 56, 22, 23, 25]\n",
    "print(f'Number of keys = {len(keys)}')\n",
    "\n",
    "# Hash Function\n",
    "# hash(key) = Key % 7\n",
    "# We take 7 because 7 is the nearest prime number.\n",
    "\n",
    "hashed_keys = []\n",
    "\n",
    "for i in keys:\n",
    "    x = i % 7\n",
    "    hashed_keys.append(x)\n",
    "    \n",
    "hashed_keys"
   ]
  },
  {
   "cell_type": "code",
   "execution_count": 7,
   "id": "3def685f-1c49-4d54-8933-9e7b264a8e9f",
   "metadata": {},
   "outputs": [
    {
     "data": {
      "text/plain": [
       "522"
      ]
     },
     "execution_count": 7,
     "metadata": {},
     "output_type": "execute_result"
    }
   ],
   "source": [
    "## Hash Collision:\n",
    "\n",
    "sum(map(ord, '9141288090'))"
   ]
  },
  {
   "cell_type": "code",
   "execution_count": 5,
   "id": "ca7bd24a-2794-4aa0-848e-fcd66116d76a",
   "metadata": {},
   "outputs": [
    {
     "data": {
      "text/plain": [
       "522"
      ]
     },
     "execution_count": 5,
     "metadata": {},
     "output_type": "execute_result"
    }
   ],
   "source": [
    "sum(map(ord, '9131288190'))"
   ]
  },
  {
   "cell_type": "code",
   "execution_count": 2,
   "id": "80c02d49-3f36-47a6-a621-adfc670447e0",
   "metadata": {},
   "outputs": [],
   "source": [
    "import random\n",
    "\n",
    "def generate_phone():\n",
    "    x = random.randint(1000000000, 9999999999)\n",
    "    return x;"
   ]
  },
  {
   "cell_type": "code",
   "execution_count": 5,
   "id": "abe07a73-1c8e-4ba7-8084-b9151af7d087",
   "metadata": {},
   "outputs": [
    {
     "name": "stdout",
     "output_type": "stream",
     "text": [
      "Phone Number 1: 3710298904 is hashed as 4\n",
      "Phone Number 2: 9544129883 is hashed as 1\n",
      "Phone Number 3: 5624004151 is hashed as 3\n",
      "Phone Number 4: 9063042873 is hashed as 3\n",
      "Phone Number 5: 6826149043 is hashed as 0\n",
      "Phone Number 6: 9908273419 is hashed as 2\n",
      "Phone Number 7: 4420613629 is hashed as 5\n",
      "Phone Number 8: 9676711475 is hashed as 4\n",
      "Phone Number 9: 4515234763 is hashed as 4\n"
     ]
    }
   ],
   "source": [
    "for i in range(1, 10):\n",
    "    x = generate_phone()\n",
    "    # 'm' ----> prime number close to the number of keys we want to insert.\n",
    "    m = 7 \n",
    "    print(f'Phone Number {i}: {x} is hashed as {x % m}')"
   ]
  },
  {
   "cell_type": "markdown",
   "id": "22d437d8-dc4f-4de2-94c6-c9d71d5baa6b",
   "metadata": {},
   "source": [
    "## Birthday Paradox:\n",
    "\n",
    "1. 23 people ---> 50 %\n",
    "2. 70 people ---> 99 % that two of them share the same birthday.\n",
    "\n",
    "## How do we address Collisions\n",
    "* If we know keys in advance, then we can build a `Perfect Hashing`. \n",
    "    * Something like building dictionary of known words.\n",
    "* If we do not know keys, then collisions are bound to occur.\n",
    "    * Chaining - We make a chain of items that collide.\n",
    "    * Open Addressing.\n",
    "        * Linear Probing.\n",
    "        * Quadratic Probing.\n",
    "        * Double Hashing."
   ]
  },
  {
   "cell_type": "markdown",
   "id": "d57e7b8b-46c7-4e6c-a99e-96f3d4c9fa5a",
   "metadata": {},
   "source": [
    "### Chaining Performance \n",
    "\n",
    "- m = No. of slots in Hash Tables.\n",
    "- n = No. of Keys to be inserted.\n",
    "\n",
    "Load Factor: \n",
    "\n",
    "* alpha = n/m\n",
    "\n",
    "### Linked Lists\n",
    "\n",
    "- Basically whenever collision happens, we insert the item at the end of list.\n",
    "- Not cache friendly because nodes are at different locations.\n",
    "- Search, insert, insert all the 3 operations will be O(l), where l is length of linkedlist.\n",
    "\n",
    "### Dynamic Sized Arrays (list in Python)\n",
    "- Cache Friendly.\n",
    "- Vectors in C++.\n",
    "- Arraylist in Java.\n",
    "\n",
    "### Cell Balancing BST\n",
    "- AVL Trees\n",
    "- Red Black Trees."
   ]
  },
  {
   "cell_type": "code",
   "execution_count": 1,
   "id": "13e91398-e92e-4376-be96-f0ec89328c63",
   "metadata": {},
   "outputs": [
    {
     "data": {
      "text/plain": [
       "1"
      ]
     },
     "execution_count": 1,
     "metadata": {},
     "output_type": "execute_result"
    }
   ],
   "source": [
    "7 % 2"
   ]
  },
  {
   "cell_type": "code",
   "execution_count": 33,
   "id": "18743c8d-5641-42cd-95f9-a5e47f975a6d",
   "metadata": {},
   "outputs": [],
   "source": [
    "class custom_hash:\n",
    "    '''\n",
    "    1. Constructor to create list of empty lists.\n",
    "    2. Basically create seven empty lists [ [], [], [], [], [], [], [] ]\n",
    "    3. \n",
    "    '''\n",
    "    \n",
    "    def __init__(self, b):\n",
    "        self.bucket = b\n",
    "        self.table = [[] for x in range(b)]\n",
    "        \n",
    "    def insert(self, x):\n",
    "        i = x % self.bucket\n",
    "        self.table[i].append(x)\n",
    "        \n",
    "    def remove(self, x):\n",
    "        i = x % self.bucket\n",
    "        if x in self.table[i]:\n",
    "            self.table[i].remove(x)\n",
    "        else:\n",
    "            print('Element is absent')\n",
    "    \n",
    "    def search(self, x):\n",
    "        i = x % self.bucket\n",
    "        return x in self.table[i]"
   ]
  },
  {
   "cell_type": "code",
   "execution_count": 34,
   "id": "84edd9ae-545c-4103-9b64-e174b3338b8c",
   "metadata": {},
   "outputs": [],
   "source": [
    "h = custom_hash(7)\n",
    "\n",
    "h.insert(70)\n",
    "h.insert(71)\n",
    "h.insert(9)\n",
    "h.insert(56)\n",
    "h.insert(72)"
   ]
  },
  {
   "cell_type": "code",
   "execution_count": 35,
   "id": "426c506b-4b2b-4959-81f1-a82fdd25f475",
   "metadata": {},
   "outputs": [
    {
     "name": "stdout",
     "output_type": "stream",
     "text": [
      "True\n"
     ]
    }
   ],
   "source": [
    "print(h.search(56))"
   ]
  },
  {
   "cell_type": "code",
   "execution_count": 36,
   "id": "f473c91a-bd73-4095-aa9c-64b7f05ac943",
   "metadata": {},
   "outputs": [
    {
     "name": "stdout",
     "output_type": "stream",
     "text": [
      "False\n"
     ]
    }
   ],
   "source": [
    "h.remove(56)\n",
    "print(h.search(56))"
   ]
  },
  {
   "cell_type": "code",
   "execution_count": 37,
   "id": "b83840c9-f37e-4600-8231-b019e6c62dd8",
   "metadata": {},
   "outputs": [
    {
     "name": "stdout",
     "output_type": "stream",
     "text": [
      "Element is absent\n"
     ]
    }
   ],
   "source": [
    "h.remove(56)"
   ]
  },
  {
   "cell_type": "markdown",
   "id": "e0f9673c-3b46-48a8-9207-53bb33cb9f0e",
   "metadata": {},
   "source": [
    "## Open Addressing \n",
    "\n",
    "Multiple ways of implementing Open Addressing:\n",
    "\n",
    "1. Linear Probing.\n",
    "2. Quadratic Probing.\n",
    "3. Double Hashing.\n",
    "\n",
    "`Formula:` hash(key, l) = (h1 + (i * h2) ) % m\n",
    "\n",
    "m = 7\n",
    "\n",
    "i = `i`th time the collision occurs. i can never be zero.\n",
    "\n",
    "h1(key) = key % 7\n",
    "\n",
    "h2(key) = x - (key % x), where x is length of the array.\n",
    "\n",
    "### Performance Analysis of Search\n",
    "\n",
    "alpha = n/m (should be <= 1)\n",
    "\n",
    "`Assumption:` Every probe sequence looks at a random location.\n",
    "\n",
    "`(1-alpha)` Fraction of the Table is empty.\n",
    "\n",
    "Expected No. of Probes required = $ (1 \\over (1 - \\alpha)) $"
   ]
  },
  {
   "cell_type": "code",
   "execution_count": 3,
   "id": "234eb87f-ef03-4946-b139-0f7e1b2de2d8",
   "metadata": {},
   "outputs": [
    {
     "name": "stdout",
     "output_type": "stream",
     "text": [
      "Formula: Final_hash_key = (h1 + (i * h2) ) % m\n",
      "x = 7 \n",
      "\n",
      "For 46, h1 = 4, h2 = 3 and Final Hash Key = 4\n",
      "For 7, h1 = 0, h2 = 7 and Final Hash Key = 0\n",
      "For 94, h1 = 3, h2 = 4 and Final Hash Key = 4\n",
      "For 50, h1 = 1, h2 = 6 and Final Hash Key = 5\n",
      "For 61, h1 = 5, h2 = 2 and Final Hash Key = 6\n",
      "For 62, h1 = 6, h2 = 1 and Final Hash Key = 4\n",
      "For 51, h1 = 2, h2 = 5 and Final Hash Key = 4\n"
     ]
    }
   ],
   "source": [
    "import random\n",
    "\n",
    "# Function to generate n number of random numbers\n",
    "def generate_nos(n):\n",
    "    ar = []\n",
    "    for i in range(0, n):\n",
    "        x = random.randint(0, 100)\n",
    "        ar.append(x)\n",
    "    return ar;\n",
    "\n",
    "# assign a list of randomly generated numbers to a list\n",
    "array = generate_nos(7)\n",
    "\n",
    "m1 = 7\n",
    "\n",
    "if len(array) % 2 == 0:\n",
    "    x = len(array)-1\n",
    "else:\n",
    "    x = len(array)\n",
    "\n",
    "print(\"Formula: Final_hash_key = (h1 + (i * h2) ) % m\")\n",
    "print(f'x = {x} \\n')\n",
    "for i in range(0, len(array)):\n",
    "    key = array[i]\n",
    "    h1 = key % 7   # remainder\n",
    "    h2 = x - (key % x)\n",
    "    hash_key = (h1 + i * h2) % m1\n",
    "    print(f'For {key}, h1 = {h1}, h2 = {h2} and Final Hash Key = {hash_key}')"
   ]
  },
  {
   "cell_type": "markdown",
   "id": "12bb28ba-7024-4cdc-8505-78cc2dfea318",
   "metadata": {},
   "source": [
    "## Clustering Problem\n",
    "\n",
    "A problem with Linear Probing. \n",
    "\n",
    "Due to clustering or mapping of multiple items to the same linkedlist header, the operations such as Search, Add and Delete become costly.\n",
    "\n",
    "### Solution to Clustering Problem:\n",
    "\n",
    "1. Quadratic Probing:\n",
    "\n",
    "Load Factor = $ {{n}\\over{m}} $\n",
    "\n",
    "    * n = Number of Keys\n",
    "    * m = Number of slots in Hash Table.\n",
    "    * h1 = key % 7\n",
    "    * h2 = "
   ]
  },
  {
   "cell_type": "markdown",
   "id": "1ebccde3-32d4-4bee-be50-6a5520878b76",
   "metadata": {},
   "source": [
    "### Comparing Chaining and Open Addressing\n",
    "\n",
    "**Chaining:**\n",
    "- Not Cache Friendly.\n",
    "\n",
    "**Open Addressing:**\n",
    "- Cache Friendly."
   ]
  },
  {
   "cell_type": "code",
   "execution_count": 1,
   "id": "4164c572-c6c4-4327-9810-8628efb23753",
   "metadata": {},
   "outputs": [
    {
     "name": "stdout",
     "output_type": "stream",
     "text": [
      "Time Complexity\n",
      "\n",
      "Chaining = 1.09 \n",
      "Open Addressing = 1.098901099\n"
     ]
    }
   ],
   "source": [
    "def time_complexity(alpha):\n",
    "    x = 1 + alpha # Chaining\n",
    "    y = 1/(1-alpha) # Open Addressing\n",
    "\n",
    "    print('Time Complexity\\n')\n",
    "    print(f'Chaining = {x} \\nOpen Addressing = {round(y, 9)}')\n",
    "    \n",
    "# Time Complexity\n",
    "time_complexity(0.09)"
   ]
  },
  {
   "cell_type": "code",
   "execution_count": 2,
   "id": "fbf8c13d-5ffa-4689-97a7-2e31bd6f7c8e",
   "metadata": {},
   "outputs": [
    {
     "name": "stdout",
     "output_type": "stream",
     "text": [
      "For Chaining if 0 % of Hash Table is occupied = 1.0\n",
      "For Chaining if 10 % of Hash Table is occupied = 1.1\n",
      "For Chaining if 20 % of Hash Table is occupied = 1.2\n",
      "For Chaining if 30 % of Hash Table is occupied = 1.3\n",
      "For Chaining if 40 % of Hash Table is occupied = 1.4\n",
      "For Chaining if 50 % of Hash Table is occupied = 1.5\n",
      "For Chaining if 60 % of Hash Table is occupied = 1.6\n",
      "For Chaining if 70 % of Hash Table is occupied = 1.7\n",
      "For Chaining if 80 % of Hash Table is occupied = 1.8\n",
      "For Chaining if 90 % of Hash Table is occupied = 1.9\n"
     ]
    }
   ],
   "source": [
    "# So if 90 % the Hash Table occupied or alpha = 0.9\n",
    "\n",
    "for i in range(0, 100, 10):\n",
    "    x = 1 + (i*0.01)\n",
    "    print(f'For Chaining if {i} % of Hash Table is occupied = {round(x, 5)}')"
   ]
  },
  {
   "cell_type": "code",
   "execution_count": 4,
   "id": "047161a7-08df-4dcb-b395-6f507c900030",
   "metadata": {},
   "outputs": [
    {
     "name": "stdout",
     "output_type": "stream",
     "text": [
      "For Open Addressing if 0 % of Hash Table is occupied = 1.0\n",
      "For Open Addressing if 10 % of Hash Table is occupied = 1.11111\n",
      "For Open Addressing if 20 % of Hash Table is occupied = 1.25\n",
      "For Open Addressing if 30 % of Hash Table is occupied = 1.42857\n",
      "For Open Addressing if 40 % of Hash Table is occupied = 1.66667\n",
      "For Open Addressing if 50 % of Hash Table is occupied = 2.0\n",
      "For Open Addressing if 60 % of Hash Table is occupied = 2.5\n",
      "For Open Addressing if 70 % of Hash Table is occupied = 3.33333\n",
      "For Open Addressing if 80 % of Hash Table is occupied = 5.0\n",
      "For Open Addressing if 90 % of Hash Table is occupied = 10.0\n"
     ]
    }
   ],
   "source": [
    "for i in range(0, 100, 10):\n",
    "    y = 1/ ( 1- (i*0.01) )\n",
    "    print(f'For Open Addressing if {i} % of Hash Table is occupied = {round(y, 5)}')"
   ]
  },
  {
   "cell_type": "code",
   "execution_count": null,
   "id": "43c57459-4fc2-40a0-9ce7-b40620f31525",
   "metadata": {},
   "outputs": [],
   "source": []
  }
 ],
 "metadata": {
  "kernelspec": {
   "display_name": "Python 3 (ipykernel)",
   "language": "python",
   "name": "python3"
  },
  "language_info": {
   "codemirror_mode": {
    "name": "ipython",
    "version": 3
   },
   "file_extension": ".py",
   "mimetype": "text/x-python",
   "name": "python",
   "nbconvert_exporter": "python",
   "pygments_lexer": "ipython3",
   "version": "3.9.13"
  },
  "toc-showcode": false
 },
 "nbformat": 4,
 "nbformat_minor": 5
}
