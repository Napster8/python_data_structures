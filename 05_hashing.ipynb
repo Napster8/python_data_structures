{
 "cells": [
  {
   "cell_type": "markdown",
   "id": "9a0b955a-6578-4544-97bd-54f1d3a8c5fe",
   "metadata": {},
   "source": [
    "# Hashing or Hash Tables\n",
    "\n",
    "A `hash table` is a data structure where elements are accessed by a keyword rather than an index number, unlike in lists and arrays. \n",
    "\n",
    "In this data structure, the data items are stored in `key-value` pairs i.e. dictionaries.\n",
    "\n",
    "### Advantages:\n",
    "- Search, Insert and Delete operations O(1) Time Complexity on an average.\n",
    "\n",
    "### Not useful when:\n",
    "\n",
    "1. Finding closest value.\n",
    "2. Sorted Data. - Order is not maintained in dictionary keys.\n",
    "3. Prefix Searching.\n",
    "    \n",
    "**Note:** For `1` and `2`, we can use AVL Tree or Red-Black Tree. or Cell Balancing Binary Search Trees.\n",
    "      \n"
   ]
  },
  {
   "cell_type": "markdown",
   "id": "4c3b5877-e276-4a3f-806c-ded715a6ff19",
   "metadata": {},
   "source": [
    "### Applications Of Hashing:\n",
    "\n",
    "1. Dictionaries.\n",
    "2. Database Indexing.\n",
    "3. Cryptography.\n",
    "4. Caches.\n",
    "5. Symbol Tables in Compilers / Interpretors.\n",
    "6. Rosters.\n",
    "\n",
    "### How Hash Functions Work?\n",
    "\n",
    "- Should always map a large key to same small key. - i.e. generate `unique` short keys.\n",
    "- Should generate values from 0 to m-1.\n",
    "- Should be fast, O(1) for integers and O(len) for strings of length 'len'.\n",
    "- Should uniformly distribute large keys into Hash Table Slots.\n",
    "\n",
    "#### `Example`: \n",
    "\n",
    "For `phone numbers` which are generally large keys. We convert them to smaller keys and store them for searching.\n",
    "\n",
    "1. The `Hash Table size` for this application is proportional to the number of keys you are going to insert. "
   ]
  },
  {
   "cell_type": "code",
   "execution_count": 6,
   "id": "ccc1b850-a285-42b1-9133-f014f683ff89",
   "metadata": {},
   "outputs": [
    {
     "name": "stdout",
     "output_type": "stream",
     "text": [
      "Number of keys = 10\n"
     ]
    },
    {
     "data": {
      "text/plain": [
       "[1, 0, 6, 3, 1, 0, 0, 1, 2, 4]"
      ]
     },
     "execution_count": 6,
     "metadata": {},
     "output_type": "execute_result"
    }
   ],
   "source": [
    "keys = [50, 21, 48, 17, 15, 49, 56, 22, 23, 25]\n",
    "print(f'Number of keys = {len(keys)}')\n",
    "\n",
    "# Hash Function\n",
    "# hash(key) = Key % 7\n",
    "# We take 7 because 7 is the nearest prime number.\n",
    "\n",
    "hashed_keys = []\n",
    "\n",
    "for i in keys:\n",
    "    x = i % 7\n",
    "    hashed_keys.append(x)\n",
    "    \n",
    "hashed_keys"
   ]
  },
  {
   "cell_type": "code",
   "execution_count": 7,
   "id": "3def685f-1c49-4d54-8933-9e7b264a8e9f",
   "metadata": {},
   "outputs": [
    {
     "data": {
      "text/plain": [
       "522"
      ]
     },
     "execution_count": 7,
     "metadata": {},
     "output_type": "execute_result"
    }
   ],
   "source": [
    "## Hash Collision:\n",
    "\n",
    "sum(map(ord, '9141288090'))"
   ]
  },
  {
   "cell_type": "code",
   "execution_count": 5,
   "id": "ca7bd24a-2794-4aa0-848e-fcd66116d76a",
   "metadata": {},
   "outputs": [
    {
     "data": {
      "text/plain": [
       "522"
      ]
     },
     "execution_count": 5,
     "metadata": {},
     "output_type": "execute_result"
    }
   ],
   "source": [
    "sum(map(ord, '9131288190'))"
   ]
  },
  {
   "cell_type": "code",
   "execution_count": 2,
   "id": "80c02d49-3f36-47a6-a621-adfc670447e0",
   "metadata": {},
   "outputs": [],
   "source": [
    "import random\n",
    "\n",
    "def generate_phone():\n",
    "    x = random.randint(1000000000, 9999999999)\n",
    "    return x;"
   ]
  },
  {
   "cell_type": "code",
   "execution_count": 5,
   "id": "abe07a73-1c8e-4ba7-8084-b9151af7d087",
   "metadata": {},
   "outputs": [
    {
     "name": "stdout",
     "output_type": "stream",
     "text": [
      "Phone Number 1: 3710298904 is hashed as 4\n",
      "Phone Number 2: 9544129883 is hashed as 1\n",
      "Phone Number 3: 5624004151 is hashed as 3\n",
      "Phone Number 4: 9063042873 is hashed as 3\n",
      "Phone Number 5: 6826149043 is hashed as 0\n",
      "Phone Number 6: 9908273419 is hashed as 2\n",
      "Phone Number 7: 4420613629 is hashed as 5\n",
      "Phone Number 8: 9676711475 is hashed as 4\n",
      "Phone Number 9: 4515234763 is hashed as 4\n"
     ]
    }
   ],
   "source": [
    "for i in range(1, 10):\n",
    "    x = generate_phone()\n",
    "    # 'm' ----> prime number close to the number of keys we want to insert.\n",
    "    m = 7 \n",
    "    print(f'Phone Number {i}: {x} is hashed as {x % m}')"
   ]
  },
  {
   "cell_type": "markdown",
   "id": "22d437d8-dc4f-4de2-94c6-c9d71d5baa6b",
   "metadata": {},
   "source": [
    "## Birthday Paradox:\n",
    "\n",
    "1. 23 people ---> 50 %\n",
    "2. 70 people ---> 99 % that two of them share the same birthday.\n",
    "\n",
    "## How do we address Collisions\n",
    "* If we know keys in advance, then we can build a `Perfect Hashing`. \n",
    "    * Something like building dictionary of known words.\n",
    "* If we do not know keys, then collisions are bound to occur.\n",
    "    * Chaining - We make a chain of items that collide.\n",
    "    * Open Addressing.\n",
    "        * Linear Probing.\n",
    "        * Quadratic Probing.\n",
    "        * Double Hashing."
   ]
  },
  {
   "cell_type": "markdown",
   "id": "d57e7b8b-46c7-4e6c-a99e-96f3d4c9fa5a",
   "metadata": {},
   "source": [
    "### Chaining Performance \n",
    "\n",
    "- m = No. of slots in Hash Tables.\n",
    "- n = No. of Keys to be inserted.\n",
    "\n",
    "Load Factor: \n",
    "\n",
    "* alpha = n/m\n",
    "\n",
    "### Linked Lists\n",
    "\n",
    "- Basically whenever collision happens, we insert the item at the end of list.\n",
    "- Not cache friendly because nodes are at different locations.\n",
    "- Search, insert, insert all the 3 operations will be O(l), where l is length of linkedlist.\n",
    "\n",
    "### Dynamic Sized Arrays (list in Python)\n",
    "- Cache Friendly.\n",
    "- Vectors in C++.\n",
    "- Arraylist in Java.\n",
    "\n",
    "### Cell Balancing BST\n",
    "- AVL Trees\n",
    "- Red Black Trees."
   ]
  },
  {
   "cell_type": "code",
   "execution_count": 1,
   "id": "13e91398-e92e-4376-be96-f0ec89328c63",
   "metadata": {},
   "outputs": [
    {
     "data": {
      "text/plain": [
       "1"
      ]
     },
     "execution_count": 1,
     "metadata": {},
     "output_type": "execute_result"
    }
   ],
   "source": [
    "7 % 2"
   ]
  },
  {
   "cell_type": "code",
   "execution_count": 33,
   "id": "18743c8d-5641-42cd-95f9-a5e47f975a6d",
   "metadata": {},
   "outputs": [],
   "source": [
    "class custom_hash:\n",
    "    '''\n",
    "    1. Constructor to create list of empty lists.\n",
    "    2. Basically create seven empty lists [ [], [], [], [], [], [], [] ]\n",
    "    3. \n",
    "    '''\n",
    "    \n",
    "    def __init__(self, b):\n",
    "        self.bucket = b\n",
    "        self.table = [[] for x in range(b)]\n",
    "        \n",
    "    def insert(self, x):\n",
    "        i = x % self.bucket\n",
    "        self.table[i].append(x)\n",
    "        \n",
    "    def remove(self, x):\n",
    "        i = x % self.bucket\n",
    "        if x in self.table[i]:\n",
    "            self.table[i].remove(x)\n",
    "        else:\n",
    "            print('Element is absent')\n",
    "    \n",
    "    def search(self, x):\n",
    "        i = x % self.bucket\n",
    "        return x in self.table[i]"
   ]
  },
  {
   "cell_type": "code",
   "execution_count": 34,
   "id": "84edd9ae-545c-4103-9b64-e174b3338b8c",
   "metadata": {},
   "outputs": [],
   "source": [
    "h = custom_hash(7)\n",
    "\n",
    "h.insert(70)\n",
    "h.insert(71)\n",
    "h.insert(9)\n",
    "h.insert(56)\n",
    "h.insert(72)"
   ]
  },
  {
   "cell_type": "code",
   "execution_count": 35,
   "id": "426c506b-4b2b-4959-81f1-a82fdd25f475",
   "metadata": {},
   "outputs": [
    {
     "name": "stdout",
     "output_type": "stream",
     "text": [
      "True\n"
     ]
    }
   ],
   "source": [
    "print(h.search(56))"
   ]
  },
  {
   "cell_type": "code",
   "execution_count": 36,
   "id": "f473c91a-bd73-4095-aa9c-64b7f05ac943",
   "metadata": {},
   "outputs": [
    {
     "name": "stdout",
     "output_type": "stream",
     "text": [
      "False\n"
     ]
    }
   ],
   "source": [
    "h.remove(56)\n",
    "print(h.search(56))"
   ]
  },
  {
   "cell_type": "code",
   "execution_count": 37,
   "id": "b83840c9-f37e-4600-8231-b019e6c62dd8",
   "metadata": {},
   "outputs": [
    {
     "name": "stdout",
     "output_type": "stream",
     "text": [
      "Element is absent\n"
     ]
    }
   ],
   "source": [
    "h.remove(56)"
   ]
  },
  {
   "cell_type": "markdown",
   "id": "e0f9673c-3b46-48a8-9207-53bb33cb9f0e",
   "metadata": {},
   "source": [
    "## Open Addressing \n",
    "\n",
    "Multiple ways of implementing Open Addressing:\n",
    "\n",
    "1. Linear Probing.\n",
    "2. Quadratic Probing.\n",
    "3. Double Hashing.\n",
    "\n",
    "`Formula:` hash(key, l) = (h1 + (i * h2) ) % m\n",
    "\n",
    "m = 7\n",
    "\n",
    "i = `i`th time the collision occurs. i can never be zero.\n",
    "\n",
    "h1(key) = key % 7\n",
    "\n",
    "h2(key) = x - (key % x), where x is length of the array.\n",
    "\n",
    "### Performance Analysis of Search\n",
    "\n",
    "alpha = n/m (should be <= 1)\n",
    "\n",
    "`Assumption:` Every probe sequence looks at a random location.\n",
    "\n",
    "`(1-alpha)` Fraction of the Table is empty.\n",
    "\n",
    "Expected No. of Probes required = $ (1 \\over (1 - \\alpha)) $"
   ]
  },
  {
   "cell_type": "code",
   "execution_count": 3,
   "id": "234eb87f-ef03-4946-b139-0f7e1b2de2d8",
   "metadata": {},
   "outputs": [
    {
     "name": "stdout",
     "output_type": "stream",
     "text": [
      "Formula: Final_hash_key = (h1 + (i * h2) ) % m\n",
      "x = 7 \n",
      "\n",
      "For 46, h1 = 4, h2 = 3 and Final Hash Key = 4\n",
      "For 7, h1 = 0, h2 = 7 and Final Hash Key = 0\n",
      "For 94, h1 = 3, h2 = 4 and Final Hash Key = 4\n",
      "For 50, h1 = 1, h2 = 6 and Final Hash Key = 5\n",
      "For 61, h1 = 5, h2 = 2 and Final Hash Key = 6\n",
      "For 62, h1 = 6, h2 = 1 and Final Hash Key = 4\n",
      "For 51, h1 = 2, h2 = 5 and Final Hash Key = 4\n"
     ]
    }
   ],
   "source": [
    "import random\n",
    "\n",
    "# Function to generate n number of random numbers\n",
    "def generate_nos(n):\n",
    "    ar = []\n",
    "    for i in range(0, n):\n",
    "        x = random.randint(0, 100)\n",
    "        ar.append(x)\n",
    "    return ar;\n",
    "\n",
    "# assign a list of randomly generated numbers to a list\n",
    "array = generate_nos(7)\n",
    "\n",
    "m1 = 7\n",
    "\n",
    "if len(array) % 2 == 0:\n",
    "    x = len(array)-1\n",
    "else:\n",
    "    x = len(array)\n",
    "\n",
    "print(\"Formula: Final_hash_key = (h1 + (i * h2) ) % m\")\n",
    "print(f'x = {x} \\n')\n",
    "for i in range(0, len(array)):\n",
    "    key = array[i]\n",
    "    h1 = key % 7   # remainder\n",
    "    h2 = x - (key % x)\n",
    "    hash_key = (h1 + i * h2) % m1\n",
    "    print(f'For {key}, h1 = {h1}, h2 = {h2} and Final Hash Key = {hash_key}')"
   ]
  },
  {
   "cell_type": "markdown",
   "id": "12bb28ba-7024-4cdc-8505-78cc2dfea318",
   "metadata": {},
   "source": [
    "## Clustering Problem\n",
    "\n",
    "A problem with Linear Probing. \n",
    "\n",
    "Due to clustering or mapping of multiple items to the same linkedlist header, the operations such as Search, Add and Delete become costly.\n",
    "\n",
    "### Solution to Clustering Problem:\n",
    "\n",
    "1. Quadratic Probing:\n",
    "\n",
    "Load Factor = $ {{n}\\over{m}} $\n",
    "\n",
    "    * n = Number of Keys\n",
    "    * m = Number of slots in Hash Table.\n",
    "    * h1 = key % 7\n",
    "    * h2 = "
   ]
  },
  {
   "cell_type": "markdown",
   "id": "1ebccde3-32d4-4bee-be50-6a5520878b76",
   "metadata": {},
   "source": [
    "### Comparing Chaining and Open Addressing\n",
    "\n",
    "**Chaining:**\n",
    "- Not Cache Friendly.\n",
    "\n",
    "**Open Addressing:**\n",
    "- Cache Friendly."
   ]
  },
  {
   "cell_type": "code",
   "execution_count": 1,
   "id": "4164c572-c6c4-4327-9810-8628efb23753",
   "metadata": {},
   "outputs": [
    {
     "name": "stdout",
     "output_type": "stream",
     "text": [
      "Time Complexity\n",
      "\n",
      "Chaining = 1.09 \n",
      "Open Addressing = 1.098901099\n"
     ]
    }
   ],
   "source": [
    "def time_complexity(alpha):\n",
    "    x = 1 + alpha # Chaining\n",
    "    y = 1/(1-alpha) # Open Addressing\n",
    "\n",
    "    print('Time Complexity\\n')\n",
    "    print(f'Chaining = {x} \\nOpen Addressing = {round(y, 9)}')\n",
    "    \n",
    "# Time Complexity\n",
    "time_complexity(0.09)"
   ]
  },
  {
   "cell_type": "code",
   "execution_count": 2,
   "id": "fbf8c13d-5ffa-4689-97a7-2e31bd6f7c8e",
   "metadata": {},
   "outputs": [
    {
     "name": "stdout",
     "output_type": "stream",
     "text": [
      "For Chaining if 0 % of Hash Table is occupied = 1.0\n",
      "For Chaining if 10 % of Hash Table is occupied = 1.1\n",
      "For Chaining if 20 % of Hash Table is occupied = 1.2\n",
      "For Chaining if 30 % of Hash Table is occupied = 1.3\n",
      "For Chaining if 40 % of Hash Table is occupied = 1.4\n",
      "For Chaining if 50 % of Hash Table is occupied = 1.5\n",
      "For Chaining if 60 % of Hash Table is occupied = 1.6\n",
      "For Chaining if 70 % of Hash Table is occupied = 1.7\n",
      "For Chaining if 80 % of Hash Table is occupied = 1.8\n",
      "For Chaining if 90 % of Hash Table is occupied = 1.9\n"
     ]
    }
   ],
   "source": [
    "# So if 90 % the Hash Table occupied or alpha = 0.9\n",
    "\n",
    "for i in range(0, 100, 10):\n",
    "    x = 1 + (i*0.01)\n",
    "    print(f'For Chaining if {i} % of Hash Table is occupied = {round(x, 5)}')"
   ]
  },
  {
   "cell_type": "code",
   "execution_count": 4,
   "id": "047161a7-08df-4dcb-b395-6f507c900030",
   "metadata": {},
   "outputs": [
    {
     "name": "stdout",
     "output_type": "stream",
     "text": [
      "For Open Addressing if 0 % of Hash Table is occupied = 1.0\n",
      "For Open Addressing if 10 % of Hash Table is occupied = 1.11111\n",
      "For Open Addressing if 20 % of Hash Table is occupied = 1.25\n",
      "For Open Addressing if 30 % of Hash Table is occupied = 1.42857\n",
      "For Open Addressing if 40 % of Hash Table is occupied = 1.66667\n",
      "For Open Addressing if 50 % of Hash Table is occupied = 2.0\n",
      "For Open Addressing if 60 % of Hash Table is occupied = 2.5\n",
      "For Open Addressing if 70 % of Hash Table is occupied = 3.33333\n",
      "For Open Addressing if 80 % of Hash Table is occupied = 5.0\n",
      "For Open Addressing if 90 % of Hash Table is occupied = 10.0\n"
     ]
    }
   ],
   "source": [
    "for i in range(0, 100, 10):\n",
    "    y = 1/ ( 1- (i*0.01) )\n",
    "    print(f'For Open Addressing if {i} % of Hash Table is occupied = {round(y, 5)}')"
   ]
  },
  {
   "cell_type": "markdown",
   "id": "9d93ae7e-0b32-4843-8e5b-5a9f3922e675",
   "metadata": {},
   "source": [
    "# Sets in Python\n",
    "\n",
    "- Stores only distinct elements.\n",
    "- Can add items, delete items --> basically immutable.\n",
    "- Un-ordered.\n",
    "- No Indexing.\n",
    "- Union, Intersection, set difference --> membership operations are fast.\n",
    "- Uses Hashing Internally."
   ]
  },
  {
   "cell_type": "code",
   "execution_count": 34,
   "id": "9f14ab90-e898-477d-90e0-00332f65a365",
   "metadata": {},
   "outputs": [
    {
     "name": "stdout",
     "output_type": "stream",
     "text": [
      "True\n",
      "False\n"
     ]
    }
   ],
   "source": [
    "s1 = {10, 20, 30}\n",
    "\n",
    "# Finding an item in a set\n",
    "\n",
    "print(30 in s1)\n",
    "print(1 in s1)"
   ]
  },
  {
   "cell_type": "code",
   "execution_count": 19,
   "id": "b30cc9a4-9622-40ed-b054-eb7ebec503ae",
   "metadata": {},
   "outputs": [
    {
     "data": {
      "text/plain": [
       "dict"
      ]
     },
     "execution_count": 19,
     "metadata": {},
     "output_type": "execute_result"
    }
   ],
   "source": [
    "# Empty dictionary\n",
    "\n",
    "s1 = {}\n",
    "type(s1)"
   ]
  },
  {
   "cell_type": "code",
   "execution_count": 17,
   "id": "56f02e1e-e565-40f3-8156-c33e699e067f",
   "metadata": {},
   "outputs": [
    {
     "name": "stdout",
     "output_type": "stream",
     "text": [
      "set()\n"
     ]
    }
   ],
   "source": [
    "# Empty set\n",
    "\n",
    "s1 = set()\n",
    "print(s1)"
   ]
  },
  {
   "cell_type": "code",
   "execution_count": 28,
   "id": "2be9b3c0-08f6-4992-a69d-e1ba88f7800b",
   "metadata": {},
   "outputs": [
    {
     "name": "stdout",
     "output_type": "stream",
     "text": [
      "{30}\n"
     ]
    }
   ],
   "source": [
    "# Adding elements\n",
    "s1 = set()\n",
    "s1.add(30)\n",
    "print(s1)"
   ]
  },
  {
   "cell_type": "code",
   "execution_count": 29,
   "id": "f0a32569-e3e4-4515-9710-92258373e27b",
   "metadata": {},
   "outputs": [
    {
     "data": {
      "text/plain": [
       "{1, 2, 3, 4, 30}"
      ]
     },
     "execution_count": 29,
     "metadata": {},
     "output_type": "execute_result"
    }
   ],
   "source": [
    "# Adding multiple elements\n",
    "\n",
    "s1.update([1, 2, 3, 4])\n",
    "s1"
   ]
  },
  {
   "cell_type": "code",
   "execution_count": 30,
   "id": "aab305c7-08ec-4fea-aab9-d993cd1f79ed",
   "metadata": {},
   "outputs": [
    {
     "data": {
      "text/plain": [
       "{1, 2, 3, 4}"
      ]
     },
     "execution_count": 30,
     "metadata": {},
     "output_type": "execute_result"
    }
   ],
   "source": [
    "# Removing items - raises error if 30 is not present in the set\n",
    "\n",
    "s1.remove(30)\n",
    "s1"
   ]
  },
  {
   "cell_type": "code",
   "execution_count": 33,
   "id": "38cfc188-5843-48ba-a2dc-5bcdc93ffedb",
   "metadata": {},
   "outputs": [
    {
     "data": {
      "text/plain": [
       "{1, 2, 3, 4}"
      ]
     },
     "execution_count": 33,
     "metadata": {},
     "output_type": "execute_result"
    }
   ],
   "source": [
    "# Discard - silent work, no errors raised if element is not present.\n",
    "\n",
    "s1.discard(30)\n",
    "s1"
   ]
  },
  {
   "cell_type": "markdown",
   "id": "f12c8049-86fa-4651-9ac7-c1a3b58cb9d0",
   "metadata": {
    "tags": []
   },
   "source": [
    "## Membership operations"
   ]
  },
  {
   "cell_type": "code",
   "execution_count": 44,
   "id": "adcf8396-71fd-4219-a78f-59d409b0e9a9",
   "metadata": {},
   "outputs": [
    {
     "name": "stdout",
     "output_type": "stream",
     "text": [
      "{1, 2, 3, 4, 6, 9}\n",
      "{3}\n"
     ]
    }
   ],
   "source": [
    "s1 = {1, 2, 3, 4}\n",
    "s2 = {3, 6, 9}\n",
    "\n",
    "print(s1 | s2) # union\n",
    "print(s1 & s2) # intersection"
   ]
  },
  {
   "cell_type": "code",
   "execution_count": 53,
   "id": "168fd96c-9705-4485-8180-1bc01dc174fc",
   "metadata": {},
   "outputs": [
    {
     "name": "stdout",
     "output_type": "stream",
     "text": [
      "s1 - s2 = {1, 2, 4}\n",
      "s2 - s1 = {9, 6}\n"
     ]
    }
   ],
   "source": [
    "s1 = {1, 2, 3, 4}\n",
    "s2 = {3, 6, 9}\n",
    "\n",
    "print('s1 - s2 =', s1 - s2) # elements present in s1 only\n",
    "print('s2 - s1 =', s2 - s1) # elements present in s2 only"
   ]
  },
  {
   "cell_type": "code",
   "execution_count": 48,
   "id": "0e7ada14-04a5-4fda-bbb0-2d27d0f909d6",
   "metadata": {},
   "outputs": [
    {
     "name": "stdout",
     "output_type": "stream",
     "text": [
      "{1, 2, 4, 6, 9}\n"
     ]
    }
   ],
   "source": [
    "s1 = {1, 2, 3, 4}\n",
    "s2 = {3, 6, 9}\n",
    "\n",
    "# symmetric difference operator (common elements are deleted)\n",
    "print(s1 ^ s2) "
   ]
  },
  {
   "cell_type": "code",
   "execution_count": 52,
   "id": "721e84f1-9e1a-49ee-bfd3-b438306dfd80",
   "metadata": {},
   "outputs": [
    {
     "name": "stdout",
     "output_type": "stream",
     "text": [
      "False\n"
     ]
    }
   ],
   "source": [
    "s1 = {1, 2, 3, 4}\n",
    "s2 = {3, 6, 9}\n",
    "\n",
    "print(s1.isdisjoint(s2)) "
   ]
  },
  {
   "cell_type": "markdown",
   "id": "0e9d578d-1dc8-4615-9dc9-9b343027dacf",
   "metadata": {
    "tags": []
   },
   "source": [
    "# Dictionary in Python\n",
    "\n",
    "* Collection of Key-Value Pairs\n",
    "* Un-ordered\n",
    "* All keys must be distinct\n",
    "* Values may be repeated\n",
    "* Uses hashing internally.\n",
    "\n",
    "Dictionaries in python are similar to:\n",
    "1. Hash map in Java.\n",
    "2. Un-ordered maps in C++.\n",
    "3. Associative arrays in php."
   ]
  },
  {
   "cell_type": "code",
   "execution_count": 58,
   "id": "cd94b859-45cc-4d74-9fdb-ad51a221a174",
   "metadata": {},
   "outputs": [
    {
     "name": "stdout",
     "output_type": "stream",
     "text": [
      "{1: 'a', 2: 'b', 7: 'c', 4: 'a', 5: 'a'}\n"
     ]
    }
   ],
   "source": [
    "d = {1 : 'a',\n",
    "     2 : 'b',\n",
    "     7 : 'c',\n",
    "     4 : 'a',\n",
    "     5 : 'a'}\n",
    "\n",
    "print(d)"
   ]
  },
  {
   "cell_type": "code",
   "execution_count": 61,
   "id": "84c30f26-031b-4715-a2ac-4a0934bca221",
   "metadata": {},
   "outputs": [
    {
     "name": "stdout",
     "output_type": "stream",
     "text": [
      "a\n",
      "c\n"
     ]
    }
   ],
   "source": [
    "print(d[1])\n",
    "print(d[7])"
   ]
  },
  {
   "cell_type": "code",
   "execution_count": 65,
   "id": "16e75add-63f6-4701-91d5-a2c1f2c64c96",
   "metadata": {},
   "outputs": [
    {
     "name": "stdout",
     "output_type": "stream",
     "text": [
      "a\n",
      "not present\n"
     ]
    }
   ],
   "source": [
    "# No error is raised by using .get method\n",
    "d = {1 : 'a',\n",
    "     2 : 'b',\n",
    "     7 : 'c',\n",
    "     4 : 'a',\n",
    "     5 : 'a'}\n",
    "\n",
    "print(d.get(1, 'not present'))\n",
    "print(d.get(3, 'not present'))"
   ]
  },
  {
   "cell_type": "code",
   "execution_count": null,
   "id": "74c20d10-56ef-4b60-a193-e57107f3bbed",
   "metadata": {},
   "outputs": [],
   "source": []
  },
  {
   "cell_type": "code",
   "execution_count": null,
   "id": "d8cf1803-c11c-40f1-9910-cc0e346e7d1d",
   "metadata": {},
   "outputs": [],
   "source": []
  },
  {
   "cell_type": "markdown",
   "id": "21d78342-7b21-48ee-81d4-fa65516a5df8",
   "metadata": {},
   "source": [
    "## Count Distinct Elements in a list:"
   ]
  },
  {
   "cell_type": "code",
   "execution_count": 67,
   "id": "d82ca97a-ea2e-4c3f-be20-f800c6421b61",
   "metadata": {},
   "outputs": [
    {
     "data": {
      "text/plain": [
       "3"
      ]
     },
     "execution_count": 67,
     "metadata": {},
     "output_type": "execute_result"
    }
   ],
   "source": [
    "# Method 1 (Using list)\n",
    "\n",
    "def distinct_1(l):\n",
    "    count = 1\n",
    "    for i in range(1, len(l)):\n",
    "        if l[i] not in l[0:i]:\n",
    "            count = count + 1\n",
    "    return count\n",
    "\n",
    "l = [10, 20, 10, 30, 30, 20]\n",
    "\n",
    "# Call\n",
    "distinct_1(l)"
   ]
  },
  {
   "cell_type": "code",
   "execution_count": 71,
   "id": "77a1a5fa-2e39-4070-81e8-81d13be1272d",
   "metadata": {},
   "outputs": [
    {
     "data": {
      "text/plain": [
       "3"
      ]
     },
     "execution_count": 71,
     "metadata": {},
     "output_type": "execute_result"
    }
   ],
   "source": [
    "# Method 2 (Using set) - Efficient\n",
    "\n",
    "def distinct_2(l):\n",
    "    s = set(l) # Convert a list to a set.\n",
    "    return len(s)\n",
    "\n",
    "l = [10, 20, 10, 30, 30, 20]\n",
    "\n",
    "# Call\n",
    "distinct_2(l)"
   ]
  },
  {
   "cell_type": "markdown",
   "id": "2c4f457e-cedc-4a9e-acd5-df45083fc6f7",
   "metadata": {},
   "source": [
    "## Sub-Array with sum = 0\n",
    "\n",
    "* Input: l = [1, 4, 13, -3, -10, 5]\n",
    "* Output: True\n",
    "\n",
    "* Input: l = [-1, 4, -3, 5, 1]\n",
    "* Output: True\n",
    "\n",
    "* Input: l = [3, 1, -2, 5, 6]\n",
    "* Output: False\n",
    "\n",
    "* Input: l = [5, 6, 0, 8]\n",
    "* Output: True"
   ]
  },
  {
   "cell_type": "markdown",
   "id": "15bff51f-d19c-41bd-aa9b-49db835f6879",
   "metadata": {},
   "source": [
    "### Naive Solution\n",
    "\n",
    "Time Complexity: $O(n^2)$ --> Two for loops"
   ]
  },
  {
   "cell_type": "code",
   "execution_count": 88,
   "id": "86a391a4-663c-4719-8375-70b44e24c2ca",
   "metadata": {},
   "outputs": [],
   "source": [
    "def is_sum_zero(l):\n",
    "    n = len(l)\n",
    "    for i in range(n):\n",
    "        for j in range(i+1, n+1):\n",
    "            print(i,j, '-->', l[i:j], 'when summed up = ', sum(l[i:j]))\n",
    "            if sum(l[i:j]) == 0:\n",
    "                return True;\n",
    "        \n",
    "    return False;"
   ]
  },
  {
   "cell_type": "code",
   "execution_count": 87,
   "id": "98c9697c-f224-478f-900e-68052490792e",
   "metadata": {},
   "outputs": [
    {
     "name": "stdout",
     "output_type": "stream",
     "text": [
      "0 1 --> [1] when summed up =  1\n",
      "0 2 --> [1, 4] when summed up =  5\n",
      "0 3 --> [1, 4, 13] when summed up =  18\n",
      "0 4 --> [1, 4, 13, -3] when summed up =  15\n",
      "0 5 --> [1, 4, 13, -3, -10] when summed up =  5\n",
      "0 6 --> [1, 4, 13, -3, -10, 5] when summed up =  10\n",
      "1 2 --> [4] when summed up =  4\n",
      "1 3 --> [4, 13] when summed up =  17\n",
      "1 4 --> [4, 13, -3] when summed up =  14\n",
      "1 5 --> [4, 13, -3, -10] when summed up =  4\n",
      "1 6 --> [4, 13, -3, -10, 5] when summed up =  9\n",
      "2 3 --> [13] when summed up =  13\n",
      "2 4 --> [13, -3] when summed up =  10\n",
      "2 5 --> [13, -3, -10] when summed up =  0\n"
     ]
    },
    {
     "data": {
      "text/plain": [
       "True"
      ]
     },
     "execution_count": 87,
     "metadata": {},
     "output_type": "execute_result"
    }
   ],
   "source": [
    "l = [1, 4, 13, -3, -10, 5]\n",
    "is_sum_zero(l)"
   ]
  },
  {
   "cell_type": "code",
   "execution_count": 90,
   "id": "e71eaaf0-21ef-40f2-a0af-1477f795a08e",
   "metadata": {},
   "outputs": [
    {
     "name": "stdout",
     "output_type": "stream",
     "text": [
      "0 1 --> [-1] when summed up =  -1\n",
      "0 2 --> [-1, 4] when summed up =  3\n",
      "0 3 --> [-1, 4, -3] when summed up =  0\n"
     ]
    },
    {
     "data": {
      "text/plain": [
       "True"
      ]
     },
     "execution_count": 90,
     "metadata": {},
     "output_type": "execute_result"
    }
   ],
   "source": [
    "l = [-1, 4, -3, 5, 1]\n",
    "is_sum_zero(l)"
   ]
  },
  {
   "cell_type": "code",
   "execution_count": 94,
   "id": "71098174-d5a9-4684-9097-4bba9e6ace23",
   "metadata": {},
   "outputs": [
    {
     "name": "stdout",
     "output_type": "stream",
     "text": [
      "0 1 --> [3] when summed up =  3\n",
      "0 2 --> [3, 1] when summed up =  4\n",
      "0 3 --> [3, 1, -2] when summed up =  2\n",
      "0 4 --> [3, 1, -2, 5] when summed up =  7\n",
      "0 5 --> [3, 1, -2, 5, 6] when summed up =  13\n",
      "1 2 --> [1] when summed up =  1\n",
      "1 3 --> [1, -2] when summed up =  -1\n",
      "1 4 --> [1, -2, 5] when summed up =  4\n",
      "1 5 --> [1, -2, 5, 6] when summed up =  10\n",
      "2 3 --> [-2] when summed up =  -2\n",
      "2 4 --> [-2, 5] when summed up =  3\n",
      "2 5 --> [-2, 5, 6] when summed up =  9\n",
      "3 4 --> [5] when summed up =  5\n",
      "3 5 --> [5, 6] when summed up =  11\n",
      "4 5 --> [6] when summed up =  6\n"
     ]
    },
    {
     "data": {
      "text/plain": [
       "False"
      ]
     },
     "execution_count": 94,
     "metadata": {},
     "output_type": "execute_result"
    }
   ],
   "source": [
    "# Worst Case\n",
    "l = [3, 1, -2, 5, 6]\n",
    "is_sum_zero(l)"
   ]
  },
  {
   "cell_type": "code",
   "execution_count": 93,
   "id": "38883ba8-8219-4f8f-8054-d720db0f299f",
   "metadata": {},
   "outputs": [
    {
     "name": "stdout",
     "output_type": "stream",
     "text": [
      "0 1 --> [5] when summed up =  5\n",
      "0 2 --> [5, 6] when summed up =  11\n",
      "0 3 --> [5, 6, 0] when summed up =  11\n",
      "0 4 --> [5, 6, 0, 8] when summed up =  19\n",
      "1 2 --> [6] when summed up =  6\n",
      "1 3 --> [6, 0] when summed up =  6\n",
      "1 4 --> [6, 0, 8] when summed up =  14\n",
      "2 3 --> [0] when summed up =  0\n"
     ]
    },
    {
     "data": {
      "text/plain": [
       "True"
      ]
     },
     "execution_count": 93,
     "metadata": {},
     "output_type": "execute_result"
    }
   ],
   "source": [
    "l = [5, 6, 0, 8]\n",
    "is_sum_zero(l)"
   ]
  },
  {
   "cell_type": "markdown",
   "id": "024c4e26-ae09-4336-a3d2-5afd23dce35a",
   "metadata": {},
   "source": [
    "### Efficient Solution\n",
    "\n",
    "By using set, we store pre-sum values. If pre-sum = 0 or pre-sum exists in hash table, we return `True`\n",
    "\n",
    "Time Complexity: $O(n)$"
   ]
  },
  {
   "cell_type": "code",
   "execution_count": 15,
   "id": "1b0c5a16-7244-4ea8-97fd-475083cfd25e",
   "metadata": {},
   "outputs": [],
   "source": [
    "def eff_is_sum_zero(l):\n",
    "    pre_sum = 0\n",
    "    h = set()   # set as hash table to store only pre sum values\n",
    "    for i in range(len(l)):\n",
    "        if l[i] == 0:\n",
    "            return True;\n",
    "        print(h) # 'h' to visualize what we are storing\n",
    "        pre_sum = pre_sum + l[i]\n",
    "        print(f'{pre_sum - l[i]} + {l[i]} = {pre_sum}\\n') # For better explanation\n",
    "        if pre_sum == 0 or pre_sum == h:\n",
    "            return True;\n",
    "        h.add(pre_sum)\n",
    "        \n",
    "    return False"
   ]
  },
  {
   "cell_type": "code",
   "execution_count": 18,
   "id": "9946886a-77ba-4b3a-8ba4-36d60a980d49",
   "metadata": {},
   "outputs": [
    {
     "name": "stdout",
     "output_type": "stream",
     "text": [
      "set()\n",
      "0 + 1 = 1\n",
      "\n",
      "{1}\n",
      "1 + 4 = 5\n",
      "\n",
      "{1, 5}\n",
      "5 + 12 = 17\n",
      "\n",
      "{1, 5, 17}\n",
      "17 + -3 = 14\n",
      "\n",
      "{1, 5, 17, 14}\n",
      "14 + -10 = 4\n",
      "\n",
      "{1, 4, 5, 14, 17}\n",
      "4 + 5 = 9\n",
      "\n"
     ]
    },
    {
     "data": {
      "text/plain": [
       "False"
      ]
     },
     "execution_count": 18,
     "metadata": {},
     "output_type": "execute_result"
    }
   ],
   "source": [
    "l = [1, 4, 12, -3, -10, 5]\n",
    "eff_is_sum_zero(l)"
   ]
  },
  {
   "cell_type": "code",
   "execution_count": 19,
   "id": "1f72234f-7cca-4952-9d3a-b527673d99a0",
   "metadata": {},
   "outputs": [
    {
     "name": "stdout",
     "output_type": "stream",
     "text": [
      "set()\n",
      "0 + -1 = -1\n",
      "\n",
      "{-1}\n",
      "-1 + 4 = 3\n",
      "\n",
      "{3, -1}\n",
      "3 + -3 = 0\n",
      "\n"
     ]
    },
    {
     "data": {
      "text/plain": [
       "True"
      ]
     },
     "execution_count": 19,
     "metadata": {},
     "output_type": "execute_result"
    }
   ],
   "source": [
    "l = [-1, 4, -3, 5, 1]\n",
    "eff_is_sum_zero(l)"
   ]
  },
  {
   "cell_type": "code",
   "execution_count": 20,
   "id": "bd2fb837-78c5-4a1b-927f-adf782e5f48b",
   "metadata": {},
   "outputs": [
    {
     "name": "stdout",
     "output_type": "stream",
     "text": [
      "set()\n",
      "0 + 3 = 3\n",
      "\n",
      "{3}\n",
      "3 + 1 = 4\n",
      "\n",
      "{3, 4}\n",
      "4 + -2 = 2\n",
      "\n",
      "{2, 3, 4}\n",
      "2 + 5 = 7\n",
      "\n",
      "{2, 3, 4, 7}\n",
      "7 + 6 = 13\n",
      "\n"
     ]
    },
    {
     "data": {
      "text/plain": [
       "False"
      ]
     },
     "execution_count": 20,
     "metadata": {},
     "output_type": "execute_result"
    }
   ],
   "source": [
    "# Worst Case\n",
    "l = [3, 1, -2, 5, 6]\n",
    "eff_is_sum_zero(l)"
   ]
  },
  {
   "cell_type": "code",
   "execution_count": 21,
   "id": "93de282c-dd58-4048-9397-55343098bd79",
   "metadata": {},
   "outputs": [
    {
     "name": "stdout",
     "output_type": "stream",
     "text": [
      "set()\n",
      "0 + 5 = 5\n",
      "\n",
      "{5}\n",
      "5 + 6 = 11\n",
      "\n"
     ]
    },
    {
     "data": {
      "text/plain": [
       "True"
      ]
     },
     "execution_count": 21,
     "metadata": {},
     "output_type": "execute_result"
    }
   ],
   "source": [
    "l = [5, 6, 0, 8]\n",
    "eff_is_sum_zero(l)"
   ]
  },
  {
   "cell_type": "markdown",
   "id": "c4082b4e-bc53-42b5-ad94-50b9609ba47a",
   "metadata": {},
   "source": [
    "### Check for Palindrome Permutation:"
   ]
  },
  {
   "cell_type": "markdown",
   "id": "997c6930-4094-4ecb-b0e2-dbec4173af3f",
   "metadata": {},
   "source": [
    "* For even length of string, count must be even\n",
    "    * jeej\n",
    "    * j = 2\n",
    "    * e = 2\n",
    "\n",
    "* For odd length of string, only one character count must be odd, all other counts must be even\n",
    "    * cabac\n",
    "    * a = 2\n",
    "    * b = 1\n"
   ]
  },
  {
   "cell_type": "code",
   "execution_count": 45,
   "id": "28f3b08a-6170-43eb-ad60-f1a45f364bff",
   "metadata": {},
   "outputs": [
    {
     "data": {
      "text/plain": [
       "'cabac Palindrome indeed'"
      ]
     },
     "execution_count": 45,
     "metadata": {},
     "output_type": "execute_result"
    }
   ],
   "source": [
    "def is_palindrome(string):\n",
    "    # initialization\n",
    "    count_dict = {}\n",
    "    odd_count = 0\n",
    "    n = len(string)\n",
    "    \n",
    "    # loop to count each item\n",
    "    \n",
    "    for i in string:\n",
    "        count_dict[f'{i}'] = string.count(i)\n",
    "        \n",
    "    #print(count_dict)\n",
    "    \n",
    "    if n % 2 == 0:\n",
    "        #print(f'Length of string = {n}, is Even')\n",
    "        \n",
    "        for j in count_dict.values():\n",
    "            if j % 2 != 0:\n",
    "                return f'{string} Not a palindrome'\n",
    "    else:\n",
    "        #print(f'Length of string = {n}, is Odd')\n",
    "        \n",
    "        for j in count_dict.values():\n",
    "            if j % 2 != 0:\n",
    "                odd_count += 1\n",
    "                if odd_count > 1:\n",
    "                    return f'{string} Not a palidrome'\n",
    "    return f'{string} Palindrome indeed'\n",
    "    \n",
    "s = 'cabac'\n",
    "\n",
    "# Call\n",
    "is_palindrome(s)"
   ]
  },
  {
   "cell_type": "code",
   "execution_count": 47,
   "id": "17dbdca9-e4b7-4560-a2ec-d05b78dabea3",
   "metadata": {},
   "outputs": [
    {
     "data": {
      "text/plain": [
       "'jeej Palindrome indeed'"
      ]
     },
     "execution_count": 47,
     "metadata": {},
     "output_type": "execute_result"
    }
   ],
   "source": [
    "s = 'jeej'\n",
    "is_palindrome(s)"
   ]
  },
  {
   "cell_type": "code",
   "execution_count": 57,
   "id": "b47af739-5e10-4496-82ed-87e56cb931c0",
   "metadata": {},
   "outputs": [
    {
     "data": {
      "text/plain": [
       "'zeeqq Palindrome indeed'"
      ]
     },
     "execution_count": 57,
     "metadata": {},
     "output_type": "execute_result"
    }
   ],
   "source": [
    "s = 'zeeqq'\n",
    "is_palindrome(s)"
   ]
  },
  {
   "cell_type": "code",
   "execution_count": 58,
   "id": "c58ae9ed-6b60-4bb1-b1c6-f6770a81b53f",
   "metadata": {},
   "outputs": [
    {
     "data": {
      "text/plain": [
       "'abccbabb Palindrome indeed'"
      ]
     },
     "execution_count": 58,
     "metadata": {},
     "output_type": "execute_result"
    }
   ],
   "source": [
    "s = 'abccbabb'\n",
    "is_palindrome(s)"
   ]
  },
  {
   "cell_type": "code",
   "execution_count": null,
   "id": "b0c7dd8b-7fe2-4434-8c22-9a3695a32743",
   "metadata": {},
   "outputs": [],
   "source": [
    "s = ''\n",
    "is_palindrome(s)"
   ]
  },
  {
   "cell_type": "code",
   "execution_count": null,
   "id": "d9c27148-e2ef-49aa-b8dc-f12f41058357",
   "metadata": {},
   "outputs": [],
   "source": [
    "s = 'jeej'\n",
    "is_palindrome(s)"
   ]
  }
 ],
 "metadata": {
  "kernelspec": {
   "display_name": "Python 3 (ipykernel)",
   "language": "python",
   "name": "python3"
  },
  "language_info": {
   "codemirror_mode": {
    "name": "ipython",
    "version": 3
   },
   "file_extension": ".py",
   "mimetype": "text/x-python",
   "name": "python",
   "nbconvert_exporter": "python",
   "pygments_lexer": "ipython3",
   "version": "3.9.13"
  },
  "toc-showcode": false
 },
 "nbformat": 4,
 "nbformat_minor": 5
}
