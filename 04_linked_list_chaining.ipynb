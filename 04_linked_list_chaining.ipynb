{
 "cells": [
  {
   "cell_type": "markdown",
   "id": "9306c6ae-1270-4a69-bf2c-470ea861c469",
   "metadata": {},
   "source": [
    "# Linked Lists\n",
    "\n",
    "1. The data elements are stored in memory in different locations that are connected through \n",
    "pointers. A pointer is an object that can store the memory address of a variable, and each \n",
    "data element points to the next data element and so on until the last element, which \n",
    "points to None.\n",
    "\n",
    "2. The length of the list can increase or decrease during the execution of the program.\n",
    "\n",
    "3. Not cache friendly because nodes are at different address locations.\n",
    "4. Time Complexity of `Search`, `insert` and `remove` will be O(l), where l is length of linkedlist.\n"
   ]
  },
  {
   "cell_type": "markdown",
   "id": "7ac3892a-1ccf-4de3-99c5-3e1afb1bead1",
   "metadata": {},
   "source": [
    "`Advanced Reading:`\n",
    "- Hashing is a process of reducing item size to a smaller version. mobile number: XXXXXXXX --> stored as 8. Hashing function has to be chosen well.\n",
    "\n",
    "- Basically in Hashing, whenever collision happens, we insert the item at the end of list. This is where we use linked list.\n",
    "\n",
    "- Hashing Function needs to be consistent. For example, suppose you put in “apple” and get back “4”. Every time you put in “apple”, you should get “4” back. Without this, your hash table won’t work."
   ]
  },
  {
   "cell_type": "markdown",
   "id": "cf4b0d5b-61b2-4eb4-bd0b-6ee7b606c53e",
   "metadata": {},
   "source": [
    "<img src=\"images/linkedlist.jpg\" alt=\"centered image\"/>"
   ]
  },
  {
   "cell_type": "markdown",
   "id": "74788557-f338-4b55-9c18-cfef69fa47b5",
   "metadata": {},
   "source": [
    "## Nodes and Pointers\n",
    "\n",
    "A `node` is a container of data, together with one or more links to other nodes where a link is a pointer.\n",
    "\n",
    "Here, the next pointer is initialized to `None`, meaning that unless we change the value of next, the node is going to be an endpoint, meaning that initially, any node that is attached to the list will be independent.\n",
    "\n"
   ]
  },
  {
   "cell_type": "markdown",
   "id": "e720179d-3f71-4076-9dc9-efcab69ef3f4",
   "metadata": {},
   "source": [
    "There are three kinds of list:\n",
    "1. Singly linked list\n",
    "2. Doubly linked list\n",
    "3. Circular linked list.\n",
    "\n",
    "We need to learn the following operations in order to use any linked lists in real-time applications.\n",
    "* Traversing the list\n",
    "* Inserting a data item in the list:\n",
    "* Inserting a new data item (node) at the beginning\n",
    "* Inserting a new data item (node) at the end of the list\n",
    "* Inserting a new data item (node) in the middle/or at any given position in the list\n",
    "* Deleting an item from the list:\n",
    "* Deleting the first node\n",
    "* Deleting the last node\n",
    "* Deleting a node in the middle/or at any given position in the list"
   ]
  },
  {
   "cell_type": "markdown",
   "id": "4f79d78f-21a0-47e4-87e1-c0ad519c437b",
   "metadata": {},
   "source": [
    "## Singly Linked List\n",
    "\n",
    "<img src=\"images/singly-linked-list.jpg\" alt=\"centered image\"/>"
   ]
  },
  {
   "cell_type": "code",
   "execution_count": 4,
   "id": "95627ca3-62fe-4fd4-bd67-38bb57bc9df9",
   "metadata": {},
   "outputs": [
    {
     "name": "stdout",
     "output_type": "stream",
     "text": [
      "1\n",
      "|\n",
      "5\n",
      "|\n",
      "2\n",
      "|\n",
      "8\n",
      "|\n"
     ]
    }
   ],
   "source": [
    "# Nodes\n",
    "\n",
    "class Node:\n",
    "    def __init__ (self, data = None):\n",
    "        self.data = data\n",
    "        self.next = None\n",
    "\n",
    "# Nodes\n",
    "a = Node(1)\n",
    "b = Node(5)\n",
    "c = Node(2)\n",
    "d = Node(8)\n",
    "\n",
    "# Pointers\n",
    "a.next = b\n",
    "b.next = c\n",
    "c.next = d\n",
    "\n",
    "# initialize\n",
    "current = a\n",
    "\n",
    "while current:\n",
    "    print(current.data)  # current\n",
    "    print('|')\n",
    "    current = current.next"
   ]
  },
  {
   "cell_type": "markdown",
   "id": "b913968c-58c4-4471-9a72-46fdb0f34875",
   "metadata": {},
   "source": [
    "## Improving `LinkedList` Creation and Traversal\n",
    "\n",
    "As you will notice in the earlier example of the list traversal, we are exposing the node class to the \n",
    "client/user. \n",
    "\n",
    "However, the client node should not interact with the node object. We need to use `node.data` to get the contents of the node, and `node.next` to get the next node. \n",
    "\n",
    "We can access the data by creating a method that returns a generator, which can be done using the `yield` keyword in Python."
   ]
  },
  {
   "cell_type": "code",
   "execution_count": 7,
   "id": "0fee71c8-5bf6-4803-af94-71afc1cf36e1",
   "metadata": {},
   "outputs": [
    {
     "name": "stdout",
     "output_type": "stream",
     "text": [
      "1\n",
      "5\n",
      "2\n",
      "8\n"
     ]
    }
   ],
   "source": [
    "class Node:\n",
    "    \"\"\" A singly-linked node. \"\"\"\n",
    "    def __init__(self, data=None):\n",
    "        self.data = data\n",
    "        self.next = None\n",
    "\n",
    "\n",
    "class SinglyLinkedList:\n",
    "    def __init__(self):\n",
    "        self.head = None\n",
    "        self.size = 0\n",
    "        \n",
    "    def append(self, data):\n",
    "        # Puting the data in a Node \n",
    "        node = Node(data)\n",
    "        if self.head is None:\n",
    "            self.head = node    \n",
    "        else: \n",
    "            current = self.head \n",
    "            while current.next:\n",
    "                current = current.next \n",
    "            current.next = node\n",
    "    \n",
    "    def iter(self):\n",
    "        current = self.head \n",
    "        while current:\n",
    "            val = current.data \n",
    "            current = current.next \n",
    "            yield val\n",
    "\n",
    "x = SinglyLinkedList()\n",
    "\n",
    "x.append(1)\n",
    "x.append(5)\n",
    "x.append(2)\n",
    "x.append(8)\n",
    "\n",
    "for x in x.iter():\n",
    "    print(x)"
   ]
  },
  {
   "cell_type": "code",
   "execution_count": null,
   "id": "629b589e-6a86-4361-881c-3c5ec5f9e25b",
   "metadata": {},
   "outputs": [],
   "source": []
  }
 ],
 "metadata": {
  "kernelspec": {
   "display_name": "Python 3 (ipykernel)",
   "language": "python",
   "name": "python3"
  },
  "language_info": {
   "codemirror_mode": {
    "name": "ipython",
    "version": 3
   },
   "file_extension": ".py",
   "mimetype": "text/x-python",
   "name": "python",
   "nbconvert_exporter": "python",
   "pygments_lexer": "ipython3",
   "version": "3.9.13"
  }
 },
 "nbformat": 4,
 "nbformat_minor": 5
}
