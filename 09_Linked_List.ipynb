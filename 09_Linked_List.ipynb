{
 "cells": [
  {
   "cell_type": "markdown",
   "id": "3ebe1bd6-e028-40f3-bd5f-5a3e2f229a68",
   "metadata": {},
   "source": [
    "# Linked List\n",
    "\n",
    "The core idea of Linked List is to drop the continguous memory requirement so that `insert` or `delete` can happen faster.\n",
    "\n",
    "1. The data elements are stored in memory in different locations that are connected through \n",
    "pointers. A pointer is an object that can store the memory address of a variable, and each \n",
    "data element points to the next data element and so on until the last element, which \n",
    "points to None.\n",
    "\n",
    "2. The length of the list can increase or decrease during the execution of the program.\n",
    "\n",
    "3. Not cache friendly because nodes are at different address locations.\n",
    "4. Time Complexity of `Search`, `insert` and `remove` will be O(l), where l is length of linkedlist.\n",
    "\n",
    "---\n",
    "\n",
    "* `Insertion` and `deletion` are costly in lists as they require contiguous memory.\n",
    "\n",
    "1. Singly Linked List.\n",
    "\n",
    "10 --> 5 --> 20 --> 25\n",
    "\n",
    "---\n",
    "\n",
    "## Applications of Linked List:\n",
    "\n",
    "1. Worst case insertion at the end (tail) and beginning (head) are $\\theta(1)$\n",
    "2. Worst case deletion (middle elements) is $\\theta(1)$\n",
    "3. Insertions and deletions in the middle are $\\theta(1)$ if we have reference to the previous node.\n",
    "4. Round robin implementation. (CPU Allocation)\n",
    "5. Merging two sorted linked list is faster than arrays.\n",
    "6. Implementation of simple memory manager where we need to link free blocks.\n",
    "7. Easier implementation of Queue and Deque data structures."
   ]
  },
  {
   "cell_type": "code",
   "execution_count": 15,
   "id": "52eaa580-1eb1-4aa1-9566-5eecd03ed2a7",
   "metadata": {},
   "outputs": [
    {
     "name": "stdout",
     "output_type": "stream",
     "text": [
      "10 --> 5 --> 20 --> 25 --> None\n"
     ]
    }
   ],
   "source": [
    "class Node:\n",
    "    # init constructor\n",
    "    def __init__(self, k):\n",
    "        self.key = k\n",
    "        self.next = None\n",
    "\n",
    "# Creating 4 nodes \n",
    "# These 4 nodes are stored at any random memory location\n",
    "temp1 = Node(10)\n",
    "temp2 = Node(5)\n",
    "temp3 = Node(20)\n",
    "temp4 = Node(25)\n",
    "\n",
    "# Create Head Node (Method 1: creating 4 temporary variables)\n",
    "head = temp1\n",
    "\n",
    "# Connect the Nodes \n",
    "head.next = temp2\n",
    "temp2.next = temp3\n",
    "temp3.next = temp4\n",
    "\n",
    "# Traversing a Linked List\n",
    "def print_list(head):\n",
    "    current = head\n",
    "    while current != None:\n",
    "        print(current.key, end = ' --> ')\n",
    "        current = current.next\n",
    "    print('None')\n",
    "    \n",
    "# Call the function\n",
    "print_list(head)"
   ]
  },
  {
   "cell_type": "markdown",
   "id": "7ab4edf3-1677-4c4c-8e49-560cf2a126a3",
   "metadata": {},
   "source": [
    "---\n",
    "\n",
    "**Method 2:** Efficient Version - uses only 1 temporary variable\n",
    "\n",
    "But this method will require $\\theta (n)$ time complexity to search middle and end values."
   ]
  },
  {
   "cell_type": "code",
   "execution_count": 41,
   "id": "2434fb64-21a1-4ba8-9fb0-c55566846862",
   "metadata": {},
   "outputs": [
    {
     "name": "stdout",
     "output_type": "stream",
     "text": [
      "10 --> 5 --> 20 --> 25 --> None\n"
     ]
    }
   ],
   "source": [
    "# Creating Singly Linked List\n",
    "class Node:\n",
    "    # init constructor\n",
    "    def __init__(self, k):\n",
    "        self.key = k\n",
    "        self.next = None\n",
    "\n",
    "# Creating 4 nodes \n",
    "\n",
    "head = Node(10)\n",
    "head.next = Node(5)\n",
    "head.next.next = Node(20)\n",
    "head.next.next.next = Node(25)    \n",
    "    \n",
    "# Traversing a Linked List\n",
    "def print_list(head):\n",
    "    current = head\n",
    "    while current != None:\n",
    "        print(current.key, end = ' --> ')\n",
    "        current = current.next\n",
    "    print('None')\n",
    "\n",
    "# Call the function\n",
    "print_list(head)"
   ]
  },
  {
   "cell_type": "code",
   "execution_count": 42,
   "id": "e29925b1-823c-4879-a4fa-a3a0126b2872",
   "metadata": {},
   "outputs": [
    {
     "name": "stdout",
     "output_type": "stream",
     "text": [
      "10 --> None\n"
     ]
    }
   ],
   "source": [
    "# Single Node in Linked List\n",
    "head = Node(10)\n",
    "\n",
    "# Call the function\n",
    "print_list(head)"
   ]
  },
  {
   "cell_type": "markdown",
   "id": "a7682283-463f-4fed-96c4-1214939b2c09",
   "metadata": {},
   "source": [
    "The current position approaches `None` and stops the traversal loop."
   ]
  },
  {
   "cell_type": "code",
   "execution_count": 44,
   "id": "910d3bc0-a447-45fc-853d-e141d519a857",
   "metadata": {},
   "outputs": [
    {
     "name": "stdout",
     "output_type": "stream",
     "text": [
      "None\n"
     ]
    }
   ],
   "source": [
    "# When there no Nodes in Linked List\n",
    "head = None\n",
    "\n",
    "# Call the function\n",
    "print_list(head)"
   ]
  },
  {
   "cell_type": "markdown",
   "id": "79665907-66b4-4c8c-bdd0-392d0bed05d7",
   "metadata": {},
   "source": [
    "1. Traversal of Linked list requires: $\\theta(n)$\n",
    "2. Traversal of Linked list requires 1 temporary variable: $\\theta(1)$"
   ]
  },
  {
   "cell_type": "markdown",
   "id": "09c8682d-7859-42ac-8d12-ea16a300db10",
   "metadata": {},
   "source": [
    "## Search in Linked List\n",
    "\n",
    "* Best Case:  Constant $O(1)$\n",
    "* Worse Case:  Constant $O(n)$ \n",
    "* Space Complexity:  $O(1)$"
   ]
  },
  {
   "cell_type": "code",
   "execution_count": 50,
   "id": "ae4c55f1-b129-42b3-b4b9-d7b237227c92",
   "metadata": {},
   "outputs": [
    {
     "name": "stdout",
     "output_type": "stream",
     "text": [
      "21 Not Found\n"
     ]
    }
   ],
   "source": [
    "class Node:\n",
    "    # init constructor\n",
    "    def __init__(self, k):\n",
    "        self.key = k\n",
    "        self.next = None\n",
    "        \n",
    "# Searching for n\n",
    "def search(head, n):\n",
    "    current = head\n",
    "    position = 0\n",
    "    \n",
    "    while current != None:\n",
    "        if current.key == n:\n",
    "            print(f'{n} Found at index or position {position}')\n",
    "            return\n",
    "        else:\n",
    "            current = current.next\n",
    "            position = position + 1\n",
    "    \n",
    "    print(f'{n} Not Found')\n",
    "    return\n",
    "\n",
    "# Creating 4 Nodes and linking them with pointers\n",
    "\n",
    "head = Node(10)\n",
    "head.next = Node(5)\n",
    "head.next.next = Node(20)\n",
    "head.next.next.next = Node(25)\n",
    "\n",
    "# Calling to search for 21\n",
    "search(head, 21)"
   ]
  },
  {
   "cell_type": "code",
   "execution_count": 48,
   "id": "0344f16c-f280-4728-9d82-8cf1297278cc",
   "metadata": {},
   "outputs": [
    {
     "name": "stdout",
     "output_type": "stream",
     "text": [
      "20 Found at index or position 3\n"
     ]
    }
   ],
   "source": [
    "# Search for 20 in 1 - 5 - 10 - 20 and return its position\n",
    "\n",
    "head = Node(1)\n",
    "head.next = Node(5)\n",
    "head.next.next = Node(10)\n",
    "head.next.next.next = Node(20)\n",
    "\n",
    "# Calling the function to search for 20\n",
    "search(head, 20)"
   ]
  },
  {
   "cell_type": "markdown",
   "id": "8745a043-cdb6-44f2-aa5f-2c712d474e49",
   "metadata": {},
   "source": [
    "## Inserting Key in the beginning of Linked List\n",
    "\n",
    "Insert key = 5 into given Linked List: 10-20-30.\n",
    "\n",
    "Output: `5`-10-20-30\n",
    "\n",
    "Time and Space Complexity: $ O(1)$"
   ]
  },
  {
   "cell_type": "code",
   "execution_count": 55,
   "id": "bfbf6c0f-32f9-4cef-a17c-94897dce93f6",
   "metadata": {},
   "outputs": [
    {
     "name": "stdout",
     "output_type": "stream",
     "text": [
      "5 is inserted.\n",
      "5 --> 10 --> 20 --> 30 --> None\n",
      "4 is inserted.\n",
      "4 --> 10 --> 20 --> 30 --> None\n"
     ]
    }
   ],
   "source": [
    "class Node:\n",
    "    def __init__(self, k):\n",
    "        self.key = k\n",
    "        self.next = None\n",
    "\n",
    "# Function that inserts n at first position(head) of linked list.\n",
    "def insert_first(head, n):\n",
    "    temp = Node(n)\n",
    "    temp.next = head\n",
    "    print(f'{temp.key} is inserted.')\n",
    "    \n",
    "    # Traverse to see the new linked-list\n",
    "    current = temp\n",
    "    while current != None:\n",
    "        print(current.key, end = ' --> ')\n",
    "        current = current.next\n",
    "    print('None')\n",
    "\n",
    "# Defining Nodes and links\n",
    "head = Node(10)\n",
    "head.next = Node(20)\n",
    "head.next.next = Node(30)\n",
    "\n",
    "# Call\n",
    "insert_first(head, 5)\n",
    "insert_first(head, 4)"
   ]
  },
  {
   "cell_type": "markdown",
   "id": "5db4f835-09fe-4711-9358-9a17699ce4fd",
   "metadata": {},
   "source": [
    "## Inserting Key in the End of Linked List\n",
    "\n",
    "Insert key = 5 at the end of given Linked List: 10-20-30.\n",
    "\n",
    "Output: 10-20-30-`5`\n",
    "\n",
    "- Time Complexity: $ O(n)$\n",
    "- Space Complexity: $ O(1)$"
   ]
  },
  {
   "cell_type": "code",
   "execution_count": 106,
   "id": "c3a6880d-8667-4830-9cb8-972032d857fe",
   "metadata": {},
   "outputs": [
    {
     "name": "stdout",
     "output_type": "stream",
     "text": [
      "10 -> 20 -> 30 -> 5 ---> None\n"
     ]
    }
   ],
   "source": [
    "class Node:\n",
    "    def __init__(self, k):\n",
    "        self.key = k\n",
    "        self.next = None\n",
    "\n",
    "# Function to insert key = n in the end of linked list\n",
    "def insert_last(head, n):\n",
    "    \n",
    "    if head == None:\n",
    "        head = Node(n)\n",
    "        return head.key\n",
    "    \n",
    "    # Initialize\n",
    "    current = head\n",
    "    \n",
    "    # current.next is checked\n",
    "    while current.next != None:\n",
    "        print(f'{current.key} -> ', end = '')\n",
    "        current = current.next\n",
    "        \n",
    "    # At the end of traversal we insert n\n",
    "    print(f'{current.key} -> ', end = '')\n",
    "    current.next = Node(n)\n",
    "    print(f'{current.next.key} ---> None')\n",
    "    \n",
    "# Defining Linked List and links\n",
    "head = Node(10)\n",
    "head.next = Node(20)\n",
    "head.next.next = Node(30)\n",
    "\n",
    "# Call function to insert 5\n",
    "insert_last(head, 5)"
   ]
  },
  {
   "cell_type": "code",
   "execution_count": 114,
   "id": "2e4c873b-4d7b-4ce3-998a-c131ad19281d",
   "metadata": {},
   "outputs": [
    {
     "name": "stdout",
     "output_type": "stream",
     "text": [
      "10 -> 20 -> 30 -> 5 ---> None\n"
     ]
    }
   ],
   "source": [
    "class Node:\n",
    "    def __init__(self, k):\n",
    "        self.key = k\n",
    "        self.next = None\n",
    "\n",
    "# Function to insert key = n in the end of linked list\n",
    "def insert_last(head, n):\n",
    "    \n",
    "    if head == None:\n",
    "        head = Node(n)\n",
    "        return head.key\n",
    "    \n",
    "    # Initialize\n",
    "    current = head\n",
    "    \n",
    "    # current.next is checked\n",
    "    while current.next != None:\n",
    "        print(f'{current.key} -> ', end = '')\n",
    "        current = current.next\n",
    "        \n",
    "    # At the end of traversal we insert n\n",
    "    print(f'{current.key} -> ', end = '')\n",
    "    current.next = Node(n)\n",
    "    print(f'{current.next.key} ---> None')\n",
    "    \n",
    "# Defining Linked List and links\n",
    "head = Node(10)\n",
    "head.next = Node(20)\n",
    "head.next.next = Node(30)\n",
    "\n",
    "# Call function to insert 5\n",
    "insert_last(head, 5)"
   ]
  },
  {
   "cell_type": "code",
   "execution_count": 115,
   "id": "ebf43feb-5692-4a90-b130-2973870a4bc4",
   "metadata": {},
   "outputs": [
    {
     "data": {
      "text/plain": [
       "5"
      ]
     },
     "execution_count": 115,
     "metadata": {},
     "output_type": "execute_result"
    }
   ],
   "source": [
    "# Corner case when head is None\n",
    "head = None\n",
    "insert_last(head, 5)"
   ]
  },
  {
   "cell_type": "code",
   "execution_count": 122,
   "id": "29af618f-4ca2-4578-b001-cb1bd969fe50",
   "metadata": {},
   "outputs": [
    {
     "name": "stdout",
     "output_type": "stream",
     "text": [
      "5\n"
     ]
    }
   ],
   "source": [
    "# smaller code with no comments\n",
    "class Node:\n",
    "    def __init__(self, k):\n",
    "        self.key = k\n",
    "        self.next = None\n",
    "\n",
    "# Function\n",
    "def insert_last(head, n):\n",
    "    \n",
    "    if head == None:\n",
    "        head = Node(n)\n",
    "        return head.key\n",
    "    \n",
    "    current = head\n",
    "    \n",
    "    while current.next != None:\n",
    "        current = current.next\n",
    "        \n",
    "    current.next = Node(n)\n",
    "    print(current.next.key)\n",
    "    \n",
    "# Defining Linked List and links\n",
    "head = Node(10)\n",
    "head.next = Node(20)\n",
    "head.next.next = Node(30)\n",
    "\n",
    "# Call function to insert 5\n",
    "insert_last(head, 5)"
   ]
  },
  {
   "cell_type": "markdown",
   "id": "cbe2ef82-c60e-4355-a307-67f55de2b0c7",
   "metadata": {},
   "source": [
    "## Inserting Key in the Middle\n",
    "\n",
    "Input: 10-30-50-70, position: 2, key = 20\n",
    "\n",
    "Output: 10-`20`-30-50-70\n",
    "\n"
   ]
  },
  {
   "cell_type": "code",
   "execution_count": 149,
   "id": "01841bd8-f5f5-44f0-a3db-68a357c73d92",
   "metadata": {},
   "outputs": [
    {
     "name": "stdout",
     "output_type": "stream",
     "text": [
      "Inserted 20 at position 3\n",
      "10 --> 30 --> 20 --> 50 --> 70 --> None\n"
     ]
    }
   ],
   "source": [
    "class Node:\n",
    "    def __init__(self, k):\n",
    "        self.key  = k\n",
    "        self.next = None\n",
    "\n",
    "# Function to Traverse a Linked List\n",
    "def print_list(head):\n",
    "    current = head\n",
    "    while current != None:\n",
    "        print(current.key, end = ' --> ')\n",
    "        current = current.next\n",
    "    print('None')        \n",
    "\n",
    "# Function to insert in the middle\n",
    "def insert_middle(head, position, n):\n",
    "    temp = Node(n)\n",
    "    \n",
    "    if position == 1 or head == None:\n",
    "        temp.next = head\n",
    "        \n",
    "        # Visualize the linked list\n",
    "        print_list(head)\n",
    "        return\n",
    "        \n",
    "    current = head\n",
    "    \n",
    "    for i in range(position-2):\n",
    "        current = current.next\n",
    "        \n",
    "        if current == None:\n",
    "            # Visualize the linked list\n",
    "            print_list(head)\n",
    "    \n",
    "    # First we link temp node with current node\n",
    "    temp.next = current.next\n",
    "    current.next = temp\n",
    "    \n",
    "    # Visualize the linked list\n",
    "    print(f'Inserted {n} at position {position}')\n",
    "    print_list(head)\n",
    "    \n",
    "\n",
    "# Define head, Nodes and links between them\n",
    "head = Node(10)\n",
    "head.next = Node(30)\n",
    "head.next.next = Node(50)\n",
    "head.next.next.next = Node(70)\n",
    "\n",
    "# Call to insert 20 at position 2\n",
    "insert_middle(head, 3, 20)"
   ]
  },
  {
   "cell_type": "code",
   "execution_count": 142,
   "id": "f4645267-59c9-41cc-9101-d52a1b815586",
   "metadata": {},
   "outputs": [
    {
     "name": "stdout",
     "output_type": "stream",
     "text": [
      "None\n"
     ]
    }
   ],
   "source": [
    "head = None\n",
    "insert_middle(head, 3, 20)"
   ]
  },
  {
   "cell_type": "code",
   "execution_count": 147,
   "id": "9076f863-34e3-4d10-8d41-69e914ca6ed4",
   "metadata": {},
   "outputs": [
    {
     "name": "stdout",
     "output_type": "stream",
     "text": [
      "Inserted 20 at position 4\n",
      "10 --> 30 --> 50 --> 20 --> None\n"
     ]
    }
   ],
   "source": [
    "# Define head, Nodes and links between them\n",
    "head = Node(10)\n",
    "head.next = Node(30)\n",
    "head.next.next = Node(50)\n",
    "\n",
    "insert_middle(head, 4, 20)"
   ]
  },
  {
   "cell_type": "code",
   "execution_count": 148,
   "id": "ef19b3ad-f979-4684-9e23-99477614a42b",
   "metadata": {},
   "outputs": [
    {
     "name": "stdout",
     "output_type": "stream",
     "text": [
      "Inserted 20 at position 3\n",
      "10 --> 30 --> 20 --> 50 --> None\n"
     ]
    }
   ],
   "source": [
    "# Define head, Nodes and links between them\n",
    "head = Node(10)\n",
    "head.next = Node(30)\n",
    "head.next.next = Node(50)\n",
    "\n",
    "insert_middle(head, 3, 20)"
   ]
  },
  {
   "cell_type": "markdown",
   "id": "9289b29e-3e1b-4a6e-857c-e4b0d3726735",
   "metadata": {},
   "source": [
    "## Delete first node\n",
    "\n",
    "10-20-30\n",
    "\n",
    "Output:after deleting 10\n",
    "\n",
    "20-30"
   ]
  },
  {
   "cell_type": "code",
   "execution_count": 159,
   "id": "16ca992c-12fc-4ed2-b29d-2ae126f7c221",
   "metadata": {},
   "outputs": [
    {
     "name": "stdout",
     "output_type": "stream",
     "text": [
      "20 --> 30 --> None\n"
     ]
    }
   ],
   "source": [
    "class Node:\n",
    "    def __init__(self, k):\n",
    "        self.key = k\n",
    "        self.next = None\n",
    "\n",
    "# Traversing a Linked List\n",
    "def print_list(head):\n",
    "    current = head\n",
    "    while current != None:\n",
    "        print(current.key, end = ' --> ')\n",
    "        current = current.next\n",
    "    print('None')\n",
    "\n",
    "# Delete first node\n",
    "def delete_first(head):\n",
    "    \n",
    "    if head == None:\n",
    "        return 'Nothing to Delete'\n",
    "    else:\n",
    "        head = head.next\n",
    "    \n",
    "    # Visualize the Linked List\n",
    "    print_list(head)\n",
    "\n",
    "\n",
    "# Define head, links and nodes\n",
    "head = Node(10)\n",
    "head.next = Node(20)\n",
    "head.next.next = Node(30)\n",
    "\n",
    "# Call the delete function\n",
    "delete_first(head)"
   ]
  },
  {
   "cell_type": "code",
   "execution_count": 162,
   "id": "a22e3cb4-3422-412c-bfae-32604828a161",
   "metadata": {},
   "outputs": [
    {
     "name": "stdout",
     "output_type": "stream",
     "text": [
      "None\n"
     ]
    }
   ],
   "source": [
    "# Define head, links and nodes\n",
    "head = Node(10)\n",
    "delete_first(head)"
   ]
  },
  {
   "cell_type": "code",
   "execution_count": 164,
   "id": "fc71faf5-2633-4c1c-b540-965008c67dd5",
   "metadata": {},
   "outputs": [
    {
     "name": "stdout",
     "output_type": "stream",
     "text": [
      "30 --> None\n"
     ]
    }
   ],
   "source": [
    "# Define head, links and nodes\n",
    "head = Node(10)\n",
    "head.next = Node(30)\n",
    "\n",
    "delete_first(head)"
   ]
  },
  {
   "cell_type": "markdown",
   "id": "d081b01f-ff47-4231-9926-0c4d913cb8ef",
   "metadata": {},
   "source": [
    "## Delete Last Node"
   ]
  },
  {
   "cell_type": "code",
   "execution_count": 169,
   "id": "d69f2d3b-0516-4d6c-aec9-7f33eb11cbe3",
   "metadata": {},
   "outputs": [
    {
     "name": "stdout",
     "output_type": "stream",
     "text": [
      "10 --> 20 --> 30 --> None\n"
     ]
    }
   ],
   "source": [
    "class Node:\n",
    "    def __init__(self, k):\n",
    "        self.key = k\n",
    "        self.next = None\n",
    "\n",
    "# Traversing a Linked List\n",
    "def print_list(head):\n",
    "    current = head\n",
    "    while current != None:\n",
    "        print(current.key, end = ' --> ')\n",
    "        current = current.next\n",
    "    print('None')\n",
    "\n",
    "# Delete Last Node\n",
    "def delete_last(head):\n",
    "    \n",
    "    if head == None or head.next == None:\n",
    "        return 'None'\n",
    "    else:\n",
    "        current = head\n",
    "        \n",
    "        while current.next.next != None:\n",
    "            current = current.next\n",
    "        \n",
    "        # Unlink the last node\n",
    "        current.next = None\n",
    "        \n",
    "    # Visualize the Linked List\n",
    "    print_list(head)\n",
    "\n",
    "\n",
    "# Define head, links and nodes\n",
    "head = Node(10)\n",
    "head.next = Node(20)\n",
    "head.next.next = Node(30)\n",
    "head.next.next.next = Node(30)\n",
    "\n",
    "# Call the delete function\n",
    "delete_last(head)"
   ]
  },
  {
   "cell_type": "markdown",
   "id": "09743a76-42b3-483b-9386-0c8dfdbd6be2",
   "metadata": {
    "tags": []
   },
   "source": [
    "## Sorted Insert in a Linked List\n",
    "\n",
    "In a given sorted singly linked list, we need to insert a key such that even after inserting the new key, the entire linked list still remains sorted.\n",
    "\n"
   ]
  },
  {
   "cell_type": "code",
   "execution_count": 33,
   "id": "ce6cf4f4-137f-4301-9f45-4337244f583b",
   "metadata": {},
   "outputs": [],
   "source": [
    "class Node:\n",
    "    def __init__(self, k):\n",
    "        self.key = k\n",
    "        self.next = None\n",
    "\n",
    "# Traversing a Linked List\n",
    "def print_list(head):\n",
    "    current = head\n",
    "    while current != None:\n",
    "        print(current.key, end = ' --> ')\n",
    "        current = current.next\n",
    "    print('None')\n",
    "\n",
    "# Insert a key in sorted manner\n",
    "def sorted_insert(head, x):\n",
    "    # Create a Node\n",
    "    temp = Node(x)\n",
    "    \n",
    "    if head == None:\n",
    "        head = Node(x)\n",
    "        \n",
    "        # Visualize\n",
    "        print_list(head)\n",
    "        return\n",
    "    \n",
    "    elif x < head.key:\n",
    "        print(f'{x} < {head.key}')\n",
    "        temp.next = head\n",
    "        \n",
    "        # Swap temp with head after linking\n",
    "        head, temp = temp, head\n",
    "        \n",
    "        # Visualize\n",
    "        print_list(head)\n",
    "        return\n",
    "    \n",
    "    else:\n",
    "        current = head\n",
    "        while current.next != None and current.next.key < x:\n",
    "            current = current.next\n",
    "        \n",
    "        temp.next = current.next\n",
    "        current.next = temp\n",
    "        \n",
    "        # Visualize\n",
    "        print_list(head)\n",
    "        return\n"
   ]
  },
  {
   "cell_type": "markdown",
   "id": "80676ff4-0f7f-4773-a34d-54f1ebd094a8",
   "metadata": {},
   "source": [
    "**Case 1:**\n",
    "\n",
    "10-20-30-40\n",
    "\n",
    "x = 25\n",
    "\n",
    "Output: 10-20-25-30-40"
   ]
  },
  {
   "cell_type": "code",
   "execution_count": 24,
   "id": "564fbb51-67d3-422b-aa62-e82a75a68a0c",
   "metadata": {},
   "outputs": [
    {
     "name": "stdout",
     "output_type": "stream",
     "text": [
      "10 --> 20 --> 25 --> 30 --> 40 --> None\n"
     ]
    }
   ],
   "source": [
    "# Define head, links and nodes\n",
    "head = Node(10)\n",
    "head.next = Node(20)\n",
    "head.next.next = Node(30)\n",
    "head.next.next.next = Node(40)\n",
    "\n",
    "sorted_insert(head, 25)"
   ]
  },
  {
   "cell_type": "markdown",
   "id": "b4a3406b-1f38-4b8e-9634-7f7ecdb7e8c6",
   "metadata": {},
   "source": [
    "**Case 2:**\n",
    "\n",
    "10-25\n",
    "\n",
    "x = 5\n",
    "\n",
    "Output: 5-10-25, 5 should become the head.\n",
    "\n"
   ]
  },
  {
   "cell_type": "code",
   "execution_count": 25,
   "id": "ab35e12a-4b32-4fd5-a033-3d702f706d1e",
   "metadata": {},
   "outputs": [
    {
     "name": "stdout",
     "output_type": "stream",
     "text": [
      "5 < 10\n",
      "5 --> 10 --> 25 --> None\n"
     ]
    }
   ],
   "source": [
    "# Define head, links and nodes\n",
    "head = Node(10)\n",
    "head.next = Node(25)\n",
    "\n",
    "sorted_insert(head, 5)"
   ]
  },
  {
   "cell_type": "markdown",
   "id": "59e1a3db-8c09-4883-9598-34830f311bf0",
   "metadata": {},
   "source": [
    "**Case 3:**\n",
    "\n",
    "5-10\n",
    "\n",
    "x = 30\n",
    "\n",
    "5-10-30\n",
    "\n"
   ]
  },
  {
   "cell_type": "code",
   "execution_count": 30,
   "id": "6edddf65-47dd-4634-81c8-4b7492fa76a6",
   "metadata": {},
   "outputs": [
    {
     "name": "stdout",
     "output_type": "stream",
     "text": [
      "5 --> 10 --> 30 --> None\n"
     ]
    }
   ],
   "source": [
    "# Define head, links and nodes\n",
    "head = Node(5)\n",
    "head.next = Node(10)\n",
    "\n",
    "sorted_insert(head, 30)"
   ]
  },
  {
   "cell_type": "markdown",
   "id": "edce12be-045b-47c8-bd1f-485857e84b80",
   "metadata": {},
   "source": [
    "**Case 4:**\n",
    "\n",
    "Null\n",
    "\n",
    "x = 10\n",
    "\n",
    "Output: 5 should become the head."
   ]
  },
  {
   "cell_type": "code",
   "execution_count": 31,
   "id": "63d5e114-10e4-4aa7-9fa2-e092761c4185",
   "metadata": {},
   "outputs": [
    {
     "name": "stdout",
     "output_type": "stream",
     "text": [
      "30 --> None\n"
     ]
    }
   ],
   "source": [
    "# Define head, links and nodes\n",
    "head = None\n",
    "\n",
    "sorted_insert(head, 30)"
   ]
  },
  {
   "cell_type": "markdown",
   "id": "a012dd10-19cb-4253-afa9-d7df5b47bd9a",
   "metadata": {},
   "source": [
    "## Reverse a Linked List in Python\n",
    "\n",
    "Naive Solution"
   ]
  },
  {
   "cell_type": "code",
   "execution_count": 53,
   "id": "5801f5b0-1e22-4559-882c-8a7530cfbf40",
   "metadata": {},
   "outputs": [],
   "source": [
    "class Node:\n",
    "    def __init__(self, k):\n",
    "        self.key = k\n",
    "        self.next = None\n",
    "\n",
    "# Traversing a Linked List\n",
    "def print_list(head):\n",
    "    current = head\n",
    "    while current != None:\n",
    "        print(current.key, end = ' --> ')\n",
    "        current = current.next\n",
    "    print('None')\n",
    "\n",
    "# Function to reverse\n",
    "\n",
    "def reverse_linked_list(head):\n",
    "    stack = []\n",
    "    \n",
    "    current = head\n",
    "    \n",
    "    # Adding elements to list\n",
    "    while current != None:\n",
    "        stack.append(current.key)\n",
    "        current = current.next\n",
    "    \n",
    "    print(f'Original: {stack}')\n",
    "    \n",
    "    current = head\n",
    "    \n",
    "    # Adding last elements by pop\n",
    "    while current != None:\n",
    "        current.key = stack.pop()\n",
    "        current = current.next\n",
    "    \n",
    "    print(f'Reversed: ', end = '')\n",
    "    \n",
    "    # Visualize\n",
    "    print_list(head)\n",
    "    return"
   ]
  },
  {
   "cell_type": "markdown",
   "id": "f3b533e4-ae19-41c6-a627-09c72adc9310",
   "metadata": {},
   "source": [
    "Case 1: \n",
    "\n",
    "* Input: 10 - 20 - 30 - 40\n",
    "* Output: 40 - 30 - 20 - 10\n"
   ]
  },
  {
   "cell_type": "code",
   "execution_count": 56,
   "id": "c1c8d69c-acd4-46d8-9c57-86ec261aa2c3",
   "metadata": {},
   "outputs": [
    {
     "name": "stdout",
     "output_type": "stream",
     "text": [
      "Original: [10, 20, 30, 40]\n",
      "Reversed: 40 --> 30 --> 20 --> 10 --> None\n"
     ]
    }
   ],
   "source": [
    "# Define head, links and nodes\n",
    "\n",
    "head = Node(10)\n",
    "head.next = Node(20)\n",
    "head.next.next = Node(30)\n",
    "head.next.next.next = Node(40)\n",
    "\n",
    "reverse_linked_list(head)"
   ]
  },
  {
   "cell_type": "code",
   "execution_count": 57,
   "id": "9d63d62e-cc15-4759-985e-7cd7ab7791bc",
   "metadata": {},
   "outputs": [
    {
     "name": "stdout",
     "output_type": "stream",
     "text": [
      "Original: [10, 20]\n",
      "Reversed: 20 --> 10 --> None\n"
     ]
    }
   ],
   "source": [
    "# Define head, links and nodes\n",
    "\n",
    "head = Node(10)\n",
    "head.next = Node(20)\n",
    "\n",
    "reverse_linked_list(head)"
   ]
  },
  {
   "cell_type": "code",
   "execution_count": 58,
   "id": "e4caefb3-0e87-4eaa-8a2a-9cfcc19b308b",
   "metadata": {},
   "outputs": [
    {
     "name": "stdout",
     "output_type": "stream",
     "text": [
      "Original: [10, 20, 30]\n",
      "Reversed: 30 --> 20 --> 10 --> None\n"
     ]
    }
   ],
   "source": [
    "# Define head, links and nodes\n",
    "\n",
    "head = Node(10)\n",
    "head.next = Node(20)\n",
    "head.next.next = Node(30)\n",
    "\n",
    "reverse_linked_list(head)"
   ]
  },
  {
   "cell_type": "code",
   "execution_count": 59,
   "id": "0dab905a-f455-4490-b3b1-fb59bea2b278",
   "metadata": {},
   "outputs": [
    {
     "name": "stdout",
     "output_type": "stream",
     "text": [
      "Original: []\n",
      "Reversed: None\n"
     ]
    }
   ],
   "source": [
    "# Define head, links and nodes\n",
    "\n",
    "head = None\n",
    "\n",
    "reverse_linked_list(head)"
   ]
  },
  {
   "cell_type": "code",
   "execution_count": 74,
   "id": "f6b1f36c-57a5-4fd2-b330-52b1bc1c484a",
   "metadata": {},
   "outputs": [
    {
     "name": "stdout",
     "output_type": "stream",
     "text": [
      "Original: 10 --> 20 --> 30 --> None\n",
      "Reversed: 30 --> 20 --> 10 --> None\n"
     ]
    }
   ],
   "source": [
    "class Node:\n",
    "    def __init__(self, k):\n",
    "        self.key = k\n",
    "        self.next = None\n",
    "\n",
    "# Traversing a Linked List\n",
    "def print_list(head):\n",
    "    current = head\n",
    "    while current != None:\n",
    "        print(current.key, end = ' --> ')\n",
    "        current = current.next\n",
    "    print('None')\n",
    "\n",
    "# Efficient Reversal with O(1) Space Complexity\n",
    "def rev_list(head):\n",
    "    current = head\n",
    "    prev = None\n",
    "    \n",
    "    print('Original: ', end = '')\n",
    "    print_list(head)\n",
    "    \n",
    "    while current != None:\n",
    "        temp = current.next\n",
    "        current.next = prev\n",
    "        prev = current\n",
    "        current = temp\n",
    "    \n",
    "    # Create a new head\n",
    "    head = prev\n",
    "    \n",
    "    # Visualize\n",
    "    print('Reversed: ', end = '')\n",
    "    print_list(head)\n",
    "    \n",
    "# Define head, links and nodes\n",
    "\n",
    "head = Node(10)\n",
    "head.next = Node(20)\n",
    "head.next.next = Node(30)\n",
    "\n",
    "rev_list(head)"
   ]
  },
  {
   "cell_type": "markdown",
   "id": "753dc088-12d6-490f-a93a-71c80bfee411",
   "metadata": {},
   "source": [
    "## Reverse a Linked List - Method - 1\n",
    "\n",
    "1. Recursive call for head.next and then change the first link.\n",
    "2. First change the first link and then make the recursive call."
   ]
  },
  {
   "cell_type": "code",
   "execution_count": null,
   "id": "30e19b15-af73-4db3-b68f-922ef8503a4a",
   "metadata": {},
   "outputs": [],
   "source": [
    " "
   ]
  }
 ],
 "metadata": {
  "kernelspec": {
   "display_name": "Python 3 (ipykernel)",
   "language": "python",
   "name": "python3"
  },
  "language_info": {
   "codemirror_mode": {
    "name": "ipython",
    "version": 3
   },
   "file_extension": ".py",
   "mimetype": "text/x-python",
   "name": "python",
   "nbconvert_exporter": "python",
   "pygments_lexer": "ipython3",
   "version": "3.9.13"
  }
 },
 "nbformat": 4,
 "nbformat_minor": 5
}
