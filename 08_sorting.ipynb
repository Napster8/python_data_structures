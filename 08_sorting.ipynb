{
 "cells": [
  {
   "cell_type": "markdown",
   "id": "7259e410-4fcb-4271-afa5-7ecca2b06a68",
   "metadata": {},
   "source": [
    "# Sorting Algorithms"
   ]
  },
  {
   "cell_type": "markdown",
   "id": "fb064eb5-44a4-47a1-9981-c93afee2e1e9",
   "metadata": {},
   "source": [
    "## Normal Sort\n",
    "\n",
    "Time Complexity: $O(n^2)$\n",
    "\n",
    "    2, 10, 8, 7\n",
    "    2, 8, 10, 7\n",
    "    2, 8, 7, 10\n",
    "    2, 7, 8, 10"
   ]
  },
  {
   "cell_type": "code",
   "execution_count": 47,
   "id": "92846e9f-5115-4fd2-84db-c53d8c3f13cf",
   "metadata": {},
   "outputs": [
    {
     "name": "stdout",
     "output_type": "stream",
     "text": [
      "---0--------------\n",
      "[2, 10, 8, 7]\n",
      "[2, 8, 10, 7]\n",
      "[2, 8, 7, 10]\n",
      "---1--------------\n",
      "[2, 8, 7, 10]\n",
      "[2, 7, 8, 10]\n",
      "[2, 7, 8, 10]\n",
      "---2--------------\n",
      "[2, 7, 8, 10]\n",
      "[2, 7, 8, 10]\n",
      "[2, 7, 8, 10]\n",
      "\n",
      "Sorted list\n"
     ]
    },
    {
     "data": {
      "text/plain": [
       "[2, 7, 8, 10]"
      ]
     },
     "execution_count": 47,
     "metadata": {},
     "output_type": "execute_result"
    }
   ],
   "source": [
    "def normal_sort(l):\n",
    "    n = len(l)\n",
    "    a = 0\n",
    "    b = 1\n",
    "    \n",
    "    for i in range(n-1):\n",
    "        a = 0\n",
    "        b = 1\n",
    "        print(f'---{i}--------------')\n",
    "        for j in range(n-1):\n",
    "            if l[a] >= l[b]:\n",
    "                temp = l[a]\n",
    "                l[a] = l[b]\n",
    "                l[b] = temp\n",
    "                print(l)\n",
    "            else:\n",
    "                print(l)\n",
    "\n",
    "            a += 1\n",
    "            b += 1\n",
    "        \n",
    "    print('\\nSorted list')    \n",
    "    return l\n",
    "\n",
    "l = [2, 10, 8, 7]\n",
    "normal_sort(l)"
   ]
  },
  {
   "cell_type": "markdown",
   "id": "f81819f0-03db-4538-a47b-0cbc3da2858f",
   "metadata": {},
   "source": [
    "## Bubble Sort\n",
    "\n",
    "Given an unordered list, we compare\n",
    "adjacent elements in the list, and after each comparison, we place them in the right order according\n",
    "to their values. \n",
    "\n",
    "So, we swap the adjacent items if they are not in the correct order. This process is repeated `n-1` times for a list of `n` items.\n",
    "\n",
    "In each iteration, the largest element of the list is moved to the end of the list. \n",
    "\n",
    "After the second iteration, the second largest element will be placed at the second-to-last position in the list. \n",
    "\n",
    "The same process is repeated until the list is sorted."
   ]
  },
  {
   "cell_type": "code",
   "execution_count": 72,
   "id": "1b3249f8-4fe0-48d4-b237-b6b225980cb4",
   "metadata": {},
   "outputs": [
    {
     "name": "stdout",
     "output_type": "stream",
     "text": [
      "---0--------------\n",
      "i = 0 j = 0 , [2, 10, 8, 7]\n",
      "i = 0 j = 1 , [2, 8, 10, 7]\n",
      "i = 0 j = 2 , [2, 8, 7, 10]\n",
      "---1--------------\n",
      "i = 1 j = 0 , [2, 8, 7, 10]\n",
      "i = 1 j = 1 , [2, 7, 8, 10]\n",
      "---2--------------\n",
      "i = 2 j = 0 , [2, 7, 8, 10]\n"
     ]
    },
    {
     "data": {
      "text/plain": [
       "'Sorted List: [2, 7, 8, 10]'"
      ]
     },
     "execution_count": 72,
     "metadata": {},
     "output_type": "execute_result"
    }
   ],
   "source": [
    "def bubble_sort(l):\n",
    "    n = len(l)\n",
    "    a = 0\n",
    "    b = 1\n",
    "    \n",
    "    for i in range(n-1):\n",
    "        a = 0\n",
    "        b = 1\n",
    "        swapped = False\n",
    "        \n",
    "        print(f'---{i}--------------')\n",
    "        for j in range(n-i-1):\n",
    "            if l[a] > l[b]:\n",
    "                temp = l[a]\n",
    "                l[a] = l[b]\n",
    "                l[b] = temp\n",
    "                swapped = True\n",
    "                print('i =',i,'j =', j, ',', l)\n",
    "            else:\n",
    "                print('i =',i,'j =', j, ',', l)\n",
    "\n",
    "            a += 1\n",
    "            b += 1\n",
    "        \n",
    "        if swapped == False:\n",
    "            return f'Sorted List: {l}'\n",
    "        \n",
    "    print('\\nSorted list')    \n",
    "    return l\n",
    "\n",
    "l = [2, 10, 8, 7]\n",
    "bubble_sort(l)"
   ]
  },
  {
   "cell_type": "code",
   "execution_count": 69,
   "id": "cfebe091-bbb8-4a9a-b9aa-27c4b8123d5a",
   "metadata": {},
   "outputs": [
    {
     "name": "stdout",
     "output_type": "stream",
     "text": [
      "Sorted List:\n"
     ]
    },
    {
     "data": {
      "text/plain": [
       "[2, 7, 8, 10]"
      ]
     },
     "execution_count": 69,
     "metadata": {},
     "output_type": "execute_result"
    }
   ],
   "source": [
    "# Even shorter code\n",
    "\n",
    "def bubble_sort(l):\n",
    "    n = len(l)\n",
    "    for i in range(n-1):\n",
    "        for j in range(n-i-1):\n",
    "            if l[j] > l[j+1]:\n",
    "                l[j], l[j+1] = l[j+1], l[j]\n",
    "    \n",
    "    print('Sorted List:')\n",
    "    return l\n",
    "\n",
    "l = [2, 10, 8, 7]\n",
    "bubble_sort(l)"
   ]
  },
  {
   "cell_type": "markdown",
   "id": "fdedf53c-896c-477a-8fcd-e0060ce8a02b",
   "metadata": {},
   "source": [
    "## Selection Sort\n",
    "\n",
    "**Idea:** Least element in list is put first, second least element is put in second... `n`th least element is put in the `n`th element and end the sorting algorithm.\n",
    "\n",
    "1. Time Complexity: $O(n^2)$\n",
    "2. Least memory re-writes when compared to Quicksort, merge sort, insertion sort, etc. But cycle sort in optimal in terms of writes.\n",
    "3. Not stable. When two elements are equal, they might get swapped."
   ]
  },
  {
   "cell_type": "code",
   "execution_count": 189,
   "id": "cc76d6d8-32ff-4d7b-8131-8dddfda57899",
   "metadata": {},
   "outputs": [
    {
     "name": "stdout",
     "output_type": "stream",
     "text": [
      "[10, 5, 8, 20, 2, 18] \n",
      "\n",
      "i = 0, n = 6, [10, 5, 8, 20, 2, 18]\n",
      "[10, 5, 8, 20, 2, 18]\n",
      "\n",
      "i = 1, n = 6, [5, 8, 20, 10, 18]\n",
      "[2, 5, 8, 20, 10, 18]\n",
      "\n",
      "i = 2, n = 6, [8, 20, 5, 18]\n",
      "[2, 10, 8, 20, 5, 18]\n",
      "\n",
      "i = 3, n = 6, [20, 8, 18]\n",
      "[2, 10, 5, 20, 8, 18]\n",
      "\n",
      "i = 4, n = 6, [20, 18]\n",
      "[2, 10, 5, 8, 20, 18]\n",
      "\n",
      "i = 5, n = 6, [20]\n",
      "[2, 10, 5, 8, 18, 20]\n",
      "\n"
     ]
    },
    {
     "data": {
      "text/plain": [
       "[2, 10, 5, 8, 18, 20]"
      ]
     },
     "execution_count": 189,
     "metadata": {},
     "output_type": "execute_result"
    }
   ],
   "source": [
    "def selection_sort(l):\n",
    "    if len(l) == 0:\n",
    "        return 'Empty List'\n",
    "    \n",
    "    n = len(l)\n",
    "    sorted_l = []\n",
    "    print(l,'\\n')\n",
    "    \n",
    "    for i in range(n):\n",
    "        print(f'i = {i}, n = {n}, {l[i: n]}')\n",
    "        \n",
    "        # Finding the index of minimum element\n",
    "        minimum = l[i]\n",
    "        for j in range(i+1, n):\n",
    "            \n",
    "            if minimum > l[j]:\n",
    "                minimum = l[j]\n",
    "                min_index = j\n",
    "        \n",
    "        print(l)\n",
    "        \n",
    "        # Swapping `i` th element with minimum element\n",
    "        \n",
    "        temp = l[min_index]\n",
    "        l[min_index] = l[i]\n",
    "        l[i] = temp\n",
    "        \n",
    "        print('')\n",
    "    \n",
    "    return l\n",
    "l = [10, 5, 8, 20, 2, 18]\n",
    "selection_sort(l)"
   ]
  },
  {
   "cell_type": "code",
   "execution_count": 190,
   "id": "22f6be0b-9f24-43db-8ca6-096863c7c294",
   "metadata": {},
   "outputs": [
    {
     "name": "stdout",
     "output_type": "stream",
     "text": [
      "i = 0, j = 1---> 5 < 10\n",
      "i = 0, j = 4---> 2 < 5\n",
      "i = 3, j = 4---> 10 < 20\n",
      "i = 4, j = 5---> 18 < 20\n"
     ]
    },
    {
     "data": {
      "text/plain": [
       "[2, 5, 8, 10, 18, 20]"
      ]
     },
     "execution_count": 190,
     "metadata": {},
     "output_type": "execute_result"
    }
   ],
   "source": [
    "# smaller code\n",
    "\n",
    "def sel_sort(l):\n",
    "    n = len(l)\n",
    "    for i in range(n-1):\n",
    "        min_index = i\n",
    "        \n",
    "        for j in range(i+1, n):\n",
    "            if l[j] < l[min_index]:\n",
    "                print(f'i = {i}, j = {j}---> {l[j]} < {l[min_index]}')\n",
    "                min_index = j\n",
    "    \n",
    "        l[min_index], l[i] = l[i], l[min_index]\n",
    "    return l;\n",
    "\n",
    "l = [10, 5, 8, 20, 2, 18]\n",
    "sel_sort(l)"
   ]
  },
  {
   "cell_type": "code",
   "execution_count": null,
   "id": "bcb178d7-f8bd-42a7-a189-fb2fc8324de8",
   "metadata": {},
   "outputs": [],
   "source": []
  },
  {
   "cell_type": "code",
   "execution_count": null,
   "id": "cb521a42-e597-4f7b-9434-0729c13395cf",
   "metadata": {},
   "outputs": [],
   "source": []
  }
 ],
 "metadata": {
  "kernelspec": {
   "display_name": "Python 3 (ipykernel)",
   "language": "python",
   "name": "python3"
  },
  "language_info": {
   "codemirror_mode": {
    "name": "ipython",
    "version": 3
   },
   "file_extension": ".py",
   "mimetype": "text/x-python",
   "name": "python",
   "nbconvert_exporter": "python",
   "pygments_lexer": "ipython3",
   "version": "3.9.13"
  }
 },
 "nbformat": 4,
 "nbformat_minor": 5
}
