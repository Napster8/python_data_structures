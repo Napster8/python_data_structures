{
 "cells": [
  {
   "cell_type": "code",
   "execution_count": 74,
   "id": "a599962b-ff0e-4bde-b843-9602cfab44c2",
   "metadata": {},
   "outputs": [],
   "source": [
    "# Some List Slicing "
   ]
  },
  {
   "cell_type": "code",
   "execution_count": 53,
   "id": "e8b14f6c-6980-4712-ae22-6db09ede54bb",
   "metadata": {},
   "outputs": [
    {
     "name": "stdout",
     "output_type": "stream",
     "text": [
      "[1, 2, 3, 4] [5, 6, 7, 8]\n"
     ]
    }
   ],
   "source": [
    "l = [1, 2, 3, 4, 5, 6, 7, 8]\n",
    "x = len(l)\n",
    "\n",
    "y = int(x/2)\n",
    "\n",
    "print(l[0:y], l[y:x])"
   ]
  },
  {
   "cell_type": "code",
   "execution_count": 52,
   "id": "dfc4023e-ddbf-4b81-9728-b3c9fdc8603d",
   "metadata": {},
   "outputs": [
    {
     "name": "stdout",
     "output_type": "stream",
     "text": [
      "[1, 2, 3] [4, 5, 6, 7]\n"
     ]
    }
   ],
   "source": [
    "l = [1, 2, 3, 4, 5, 6, 7]\n",
    "x = len(l)\n",
    "\n",
    "y = (x/2)\n",
    "y = int(y)\n",
    "\n",
    "\n",
    "print(l[0:y], l[y:x])"
   ]
  },
  {
   "cell_type": "markdown",
   "id": "7cf3e183-f856-4aa0-8222-519ff0137ef8",
   "metadata": {},
   "source": [
    "# Binary Search:\n",
    "\n"
   ]
  },
  {
   "cell_type": "markdown",
   "id": "763576ea-a623-42ac-9632-15dda1ca3500",
   "metadata": {},
   "source": [
    "## Normal Search\n",
    "\n",
    "Average Case Time Complexity will be: $O(n/2) $\n",
    "\n",
    "Worst Case Time Complexity will be: $O(n) $"
   ]
  },
  {
   "cell_type": "code",
   "execution_count": 31,
   "id": "f55d1e2f-098c-4340-a433-72205ee2eb29",
   "metadata": {},
   "outputs": [
    {
     "name": "stdout",
     "output_type": "stream",
     "text": [
      "Number of items searched = 2\n"
     ]
    },
    {
     "data": {
      "text/plain": [
       "'20 found in [10, 20, 30, 40, 50, 60], at  Index 1'"
      ]
     },
     "execution_count": 31,
     "metadata": {},
     "output_type": "execute_result"
    }
   ],
   "source": [
    "def normal_search(l, n):\n",
    "    counter = 0\n",
    "    \n",
    "    for number in l:\n",
    "        counter = counter + 1\n",
    "        if number == n:\n",
    "            print(f'Number of items searched = {counter}')\n",
    "            return f'{n} found in {l}, at  Index {counter-1}'\n",
    "    \n",
    "    print(f'Number of items searched = {counter}')\n",
    "    return f'{n} not found in {l}'\n",
    "\n",
    "# Find if n is present in sorted list 'l'\n",
    "l = [10, 20, 30, 40, 50, 60]\n",
    "n = 20\n",
    "\n",
    "# Call\n",
    "normal_search(l, n)"
   ]
  },
  {
   "cell_type": "code",
   "execution_count": 32,
   "id": "b271488d-8a29-4d2f-8209-bacfcf027653",
   "metadata": {},
   "outputs": [
    {
     "name": "stdout",
     "output_type": "stream",
     "text": [
      "Number of items searched = 4\n"
     ]
    },
    {
     "data": {
      "text/plain": [
       "'20 found in [5, 10, 15, 20, 25], at  Index 3'"
      ]
     },
     "execution_count": 32,
     "metadata": {},
     "output_type": "execute_result"
    }
   ],
   "source": [
    "l = [5, 10, 15, 20, 25]\n",
    "n = 20\n",
    "\n",
    "# Call\n",
    "normal_search(l, n)"
   ]
  },
  {
   "cell_type": "code",
   "execution_count": 78,
   "id": "6e794646-eff3-4de1-9e8d-cec138972649",
   "metadata": {},
   "outputs": [
    {
     "name": "stdout",
     "output_type": "stream",
     "text": [
      "Number of items searched = 8\n"
     ]
    },
    {
     "data": {
      "text/plain": [
       "'21 not found in [1, 2, 3, 4, 5, 10, 15, 20]'"
      ]
     },
     "execution_count": 78,
     "metadata": {},
     "output_type": "execute_result"
    }
   ],
   "source": [
    "l = [1, 2, 3, 4, 5, 10, 15, 20]\n",
    "n = 21\n",
    "\n",
    "# Call\n",
    "normal_search(l, n)"
   ]
  },
  {
   "cell_type": "markdown",
   "id": "8fe694b0-83ee-470a-a446-cade6f9bb1bd",
   "metadata": {},
   "source": [
    "## Binary Search\n",
    "\n",
    "Average or Worst Case Time Complexity of Binary Search: $O(logN)$"
   ]
  },
  {
   "cell_type": "code",
   "execution_count": 33,
   "id": "01e482d4-613d-4d25-803a-d72bc10634d2",
   "metadata": {},
   "outputs": [
    {
     "name": "stdout",
     "output_type": "stream",
     "text": [
      "Searching for 1 in left half, 4\n",
      "Searching for 1 in left half, 2\n",
      "\n",
      "Number of Searches = 3\n"
     ]
    },
    {
     "data": {
      "text/plain": [
       "'1 Found at index = 0'"
      ]
     },
     "execution_count": 33,
     "metadata": {},
     "output_type": "execute_result"
    }
   ],
   "source": [
    "def binary_search(l, n):\n",
    "    low = 0\n",
    "    high = len(l)-1\n",
    "    counter = 0\n",
    "    \n",
    "    while low <= high:\n",
    "        mid = (low + high)//2\n",
    "        \n",
    "        if l[mid] == n:\n",
    "            counter = counter + 1\n",
    "            print(f'\\nNumber of Searches = {counter}')\n",
    "            return f'{n} Found at index = {mid}'\n",
    "        \n",
    "        elif l[mid] < n:\n",
    "            print(f'Searching for {n} in right half, {l[mid]}')\n",
    "            counter = counter + 1\n",
    "            low = mid + 1\n",
    "            \n",
    "        else:\n",
    "            print(f'Searching for {n} in left half, {l[mid]}')\n",
    "            counter = counter + 1\n",
    "            high = mid - 1\n",
    "\n",
    "l = [1, 2, 3, 4, 5, 10, 15, 20]\n",
    "n = 1\n",
    "\n",
    "# Call\n",
    "binary_search(l, n)"
   ]
  },
  {
   "cell_type": "code",
   "execution_count": 34,
   "id": "51b1ac42-ebdb-4b32-8085-c79c5cae35f8",
   "metadata": {},
   "outputs": [
    {
     "name": "stdout",
     "output_type": "stream",
     "text": [
      "Searching for 20 in right half, 4\n",
      "Searching for 20 in right half, 10\n",
      "Searching for 20 in right half, 15\n",
      "\n",
      "Number of Searches = 4\n"
     ]
    },
    {
     "data": {
      "text/plain": [
       "'20 Found at index = 7'"
      ]
     },
     "execution_count": 34,
     "metadata": {},
     "output_type": "execute_result"
    }
   ],
   "source": [
    "l = [1, 2, 3, 4, 5, 10, 15, 20]\n",
    "n = 20\n",
    "\n",
    "# Call\n",
    "binary_search(l, n)"
   ]
  },
  {
   "cell_type": "code",
   "execution_count": 38,
   "id": "1edfb3c8-4a66-4fed-a828-e26a44f05631",
   "metadata": {},
   "outputs": [
    {
     "name": "stdout",
     "output_type": "stream",
     "text": [
      "Searching for 5 in right half, 4\n",
      "Searching for 5 in left half, 10\n",
      "\n",
      "Number of Searches = 3\n"
     ]
    },
    {
     "data": {
      "text/plain": [
       "'5 Found at index = 4'"
      ]
     },
     "execution_count": 38,
     "metadata": {},
     "output_type": "execute_result"
    }
   ],
   "source": [
    "l = [1, 2, 3, 4, 5, 10, 15, 20]\n",
    "n = 5\n",
    "\n",
    "# Call\n",
    "binary_search(l, n)"
   ]
  },
  {
   "cell_type": "markdown",
   "id": "80f54a07-537e-4055-a762-1f31e6fed6f1",
   "metadata": {},
   "source": [
    "## Recursive Binary Search"
   ]
  },
  {
   "cell_type": "code",
   "execution_count": 43,
   "id": "275482e5-d5fd-43ac-ba21-a96961bac44f",
   "metadata": {},
   "outputs": [
    {
     "data": {
      "text/plain": [
       "4"
      ]
     },
     "execution_count": 43,
     "metadata": {},
     "output_type": "execute_result"
    }
   ],
   "source": [
    "def rec_binary_search(l, n, low , high):\n",
    "    if low > high:\n",
    "        return -1\n",
    "    mid = (low + high)//2\n",
    "    if l[mid] == n:\n",
    "        return mid\n",
    "    elif l[mid] > n:\n",
    "        return rec_binary_search(l, n, low , mid-1)\n",
    "    else:\n",
    "        return rec_binary_search(l, n, mid + 1, high)\n",
    "\n",
    "l = [1, 2, 3, 4, 5, 10, 15, 20]\n",
    "n = 5\n",
    "\n",
    "rec_binary_search(l, n, 0, len(l)-1)"
   ]
  },
  {
   "cell_type": "markdown",
   "id": "6f98ecfb-8996-41c7-b645-fd6ec29c4082",
   "metadata": {},
   "source": [
    "**NOTE:**\n",
    "\n",
    "Between Iterative and Recursive solutions, iterative solutions are better because they take up less space. \n",
    "\n",
    "Call Stacks take up more space in recursive solutions.\n",
    "\n",
    "Iterative solutions are also generally easily readable code by many."
   ]
  },
  {
   "cell_type": "markdown",
   "id": "f83ec228-eece-44f3-835c-cdd87cdc5370",
   "metadata": {},
   "source": [
    "## Index of First Occurence:\n",
    "\n",
    "Search for `n` number in a sorted list `l`. Then return where does it first occur in the list."
   ]
  },
  {
   "cell_type": "code",
   "execution_count": 75,
   "id": "8917eeef-98e8-4f45-b821-3a073d63a683",
   "metadata": {},
   "outputs": [
    {
     "name": "stdout",
     "output_type": "stream",
     "text": [
      "Searching right half: 10\n"
     ]
    },
    {
     "data": {
      "text/plain": [
       "'20 Not Found'"
      ]
     },
     "execution_count": 75,
     "metadata": {},
     "output_type": "execute_result"
    }
   ],
   "source": [
    "def first_occurence(l, n):\n",
    "    low = 0\n",
    "    high = len(l)\n",
    "    \n",
    "    while low <= high:\n",
    "        mid = (low + high) // 2\n",
    "        \n",
    "        if l[mid] == n:\n",
    "            print(f'\\n{n} Found at index {mid}')\n",
    "            \n",
    "            while n == l[mid-1]:\n",
    "                print(f'Present at index {mid-1}')\n",
    "                mid = mid - 1\n",
    "                \n",
    "            return f'First occurence at index {mid}'\n",
    "        \n",
    "        elif l[mid] > n:\n",
    "            print(f'Searching left half: {l[mid]}')\n",
    "            high = mid - 1\n",
    "        \n",
    "        else:\n",
    "            print(f'Searching right half: {l[mid]}')\n",
    "            low = mid + 1\n",
    "            \n",
    "        return f'{n} Not Found'\n",
    "l = [1, 1, 2, 2, 10, 10, 10, 10, 10, 20, 20, 20, 20, 20, 40, 40, 45]\n",
    "n = 20\n",
    "\n",
    "first_occurence(l, n)"
   ]
  },
  {
   "cell_type": "code",
   "execution_count": 72,
   "id": "d5569d9e-f354-4bc4-bf01-537c1f1264ab",
   "metadata": {},
   "outputs": [
    {
     "name": "stdout",
     "output_type": "stream",
     "text": [
      "\n",
      "10 Found at index 2\n",
      "Present at index 1\n"
     ]
    },
    {
     "data": {
      "text/plain": [
       "'First occurence at index 1'"
      ]
     },
     "execution_count": 72,
     "metadata": {},
     "output_type": "execute_result"
    }
   ],
   "source": [
    "l = [5, 10, 10, 20, 20]\n",
    "n = 10\n",
    "first_occurence(l, n)"
   ]
  },
  {
   "cell_type": "code",
   "execution_count": 77,
   "id": "99873057-f6d3-4304-a6ee-b493f5b5fae7",
   "metadata": {},
   "outputs": [
    {
     "name": "stdout",
     "output_type": "stream",
     "text": [
      "\n",
      "10 Found at index 2\n",
      "Present at index 1\n"
     ]
    },
    {
     "data": {
      "text/plain": [
       "'First occurence at index 1'"
      ]
     },
     "execution_count": 77,
     "metadata": {},
     "output_type": "execute_result"
    }
   ],
   "source": [
    "l = [5, 10, 10, 20, 20]\n",
    "n = 10\n",
    "first_occurence(l, n)"
   ]
  },
  {
   "cell_type": "code",
   "execution_count": null,
   "id": "417d8647-581a-4fd4-a046-e198f918f741",
   "metadata": {},
   "outputs": [],
   "source": []
  },
  {
   "cell_type": "code",
   "execution_count": null,
   "id": "a8009fc1-e3ab-43ef-848b-0bbb0cbf134c",
   "metadata": {},
   "outputs": [],
   "source": []
  },
  {
   "cell_type": "code",
   "execution_count": null,
   "id": "b73ef605-0d23-437a-a370-3276577dc3a9",
   "metadata": {},
   "outputs": [],
   "source": []
  },
  {
   "cell_type": "code",
   "execution_count": null,
   "id": "b67e47f7-8cef-4890-84f9-93eb720af001",
   "metadata": {},
   "outputs": [],
   "source": []
  },
  {
   "cell_type": "code",
   "execution_count": null,
   "id": "7e98e2f8-c07b-4f80-b108-4d29cea3b136",
   "metadata": {},
   "outputs": [],
   "source": []
  },
  {
   "cell_type": "code",
   "execution_count": null,
   "id": "7c751e18-70e8-4b18-a652-b664592be27e",
   "metadata": {},
   "outputs": [],
   "source": []
  }
 ],
 "metadata": {
  "kernelspec": {
   "display_name": "Python 3 (ipykernel)",
   "language": "python",
   "name": "python3"
  },
  "language_info": {
   "codemirror_mode": {
    "name": "ipython",
    "version": 3
   },
   "file_extension": ".py",
   "mimetype": "text/x-python",
   "name": "python",
   "nbconvert_exporter": "python",
   "pygments_lexer": "ipython3",
   "version": "3.9.13"
  }
 },
 "nbformat": 4,
 "nbformat_minor": 5
}
