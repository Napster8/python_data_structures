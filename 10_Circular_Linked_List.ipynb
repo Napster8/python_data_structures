{
 "cells": [
  {
   "cell_type": "markdown",
   "id": "cdd54a71-4ea8-4b1a-9165-0239abf3556a",
   "metadata": {},
   "source": [
    "# Circular Linked List in Python\n",
    "\n",
    "Advantages:\n",
    "\n",
    "1. We can traverse the whole list from any node.\n",
    "2. Implementation of algorithms like round robin.\n",
    "3. We can insert at the beginning and end by just maintaining one tail reference/pointer.\n",
    "\n",
    "Disadvantages:\n",
    "\n",
    "1. Implementations of operations become complex."
   ]
  },
  {
   "cell_type": "code",
   "execution_count": 25,
   "id": "19ef8009",
   "metadata": {},
   "outputs": [
    {
     "name": "stdout",
     "output_type": "stream",
     "text": [
      "6 --> 7 --> 8 --> 9 --> back to square 1: 6 --> 7\n"
     ]
    }
   ],
   "source": [
    "class Node:\n",
    "    def __init__(self, k):\n",
    "        self.key = k\n",
    "        self.next = None\n",
    "\n",
    "# Traversing circular linkedlist\n",
    "def circular_linked_list(head):\n",
    "    current = head\n",
    "    \n",
    "    if head == None:\n",
    "        return 'None'\n",
    "    \n",
    "    if head.next == None:\n",
    "        current.next = head\n",
    "        return head.key\n",
    "    \n",
    "    while current!= None:\n",
    "        \n",
    "        print(f'{current.key} --> ', end = '')\n",
    "        current = current.next\n",
    "        \n",
    "        if current.next == None:\n",
    "            print(f'{current.key} --> ', end = '')\n",
    "            \n",
    "            current.next = head\n",
    "            \n",
    "            # To verify that linked list is circular in nature\n",
    "            print(f'back to square 1: {current.next.key} --> ', end = '')\n",
    "            print(current.next.next.key)\n",
    "            return\n",
    "    \n",
    "\n",
    "head = Node(6)\n",
    "head.next = Node(7)\n",
    "head.next.next = Node(8)\n",
    "head.next.next.next = Node(9)\n",
    "\n",
    "circular_linked_list(head)"
   ]
  },
  {
   "cell_type": "code",
   "execution_count": 14,
   "id": "2c6fa104-759b-4b6c-b48e-34a7b95a335b",
   "metadata": {
    "scrolled": true,
    "tags": []
   },
   "outputs": [
    {
     "name": "stdout",
     "output_type": "stream",
     "text": [
      "6 --> 7 --> back to square 1: 6 --> 7\n"
     ]
    }
   ],
   "source": [
    "# Links and Nodes\n",
    "head = Node(6)\n",
    "head.next = Node(7)\n",
    "\n",
    "# Call\n",
    "circular_linked_list(head)"
   ]
  },
  {
   "cell_type": "code",
   "execution_count": 20,
   "id": "317922ce-c4a7-4560-b596-c6ccc707df8b",
   "metadata": {},
   "outputs": [
    {
     "data": {
      "text/plain": [
       "5"
      ]
     },
     "execution_count": 20,
     "metadata": {},
     "output_type": "execute_result"
    }
   ],
   "source": [
    "# Edge case when there is only one node\n",
    "head = Node(5)\n",
    "\n",
    "# Call\n",
    "circular_linked_list(head)"
   ]
  },
  {
   "cell_type": "code",
   "execution_count": 26,
   "id": "6a1cb462-b2ce-4ccb-b8c4-6600307dbd57",
   "metadata": {},
   "outputs": [
    {
     "data": {
      "text/plain": [
       "'None'"
      ]
     },
     "execution_count": 26,
     "metadata": {},
     "output_type": "execute_result"
    }
   ],
   "source": [
    "head = None\n",
    "\n",
    "# Call\n",
    "circular_linked_list(head)"
   ]
  },
  {
   "cell_type": "markdown",
   "id": "10fdd72b-6327-4a9c-8bea-ed0a77cd8d1c",
   "metadata": {},
   "source": [
    "## Insert at the Beginning of Circular Linked List\n",
    "\n",
    "Naive Solution - We need to traverse through entire Linked list to insert at the beginning."
   ]
  },
  {
   "cell_type": "code",
   "execution_count": 1,
   "id": "9a38a19f-7a1f-41b9-9f0f-635c5ef3e293",
   "metadata": {},
   "outputs": [
    {
     "name": "stdout",
     "output_type": "stream",
     "text": [
      "Original: 4 --> 5 --> 6 --> \n",
      "\n",
      "7 --> 4 --> 5 --> 6 --> "
     ]
    }
   ],
   "source": [
    "class Node:\n",
    "    def __init__(self, k):\n",
    "        self.key = k\n",
    "        self.next = None\n",
    "\n",
    "# Insert key at the beginning of circular linkedlist\n",
    "def circular_linked_list_insert_beginning(head, n):\n",
    "    # Create the node n\n",
    "    temp = Node(n)\n",
    "    \n",
    "    if head == None:\n",
    "        temp.next = temp\n",
    "        print(temp.key, end = '')\n",
    "        return\n",
    "    \n",
    "    current = head\n",
    "    print(f'Original: {current.key}', end = ' --> ')\n",
    "    \n",
    "    while current.next != head:\n",
    "        print(current.next.key, end = ' --> ')\n",
    "        current = current.next\n",
    "        \n",
    "    current.next = temp\n",
    "    temp.next = head\n",
    "    temp, head = head, temp\n",
    "    \n",
    "    print('\\n') # ----------\n",
    "    \n",
    "    current = head\n",
    "    print(f'{current.key}', end = ' --> ')\n",
    "    \n",
    "    while current.next != head:\n",
    "        print(current.next.key, end = ' --> ')\n",
    "        current = current.next\n",
    "        \n",
    "    return\n",
    "    \n",
    "# Circular Linked List\n",
    "head = Node(4)\n",
    "head.next = Node(5)\n",
    "head.next.next = Node(6)\n",
    "head.next.next.next = head\n",
    "\n",
    "# Call\n",
    "circular_linked_list_insert_beginning(head, 7)"
   ]
  },
  {
   "cell_type": "markdown",
   "id": "7b5e8356-f162-4b4c-a753-f6700e8525d8",
   "metadata": {},
   "source": [
    "---\n",
    "**Efficient Solution:** Constant Time "
   ]
  },
  {
   "cell_type": "code",
   "execution_count": 63,
   "id": "63847a91-362d-4b63-b59d-53421c63ae47",
   "metadata": {},
   "outputs": [
    {
     "name": "stdout",
     "output_type": "stream",
     "text": [
      "7-4-5-6-"
     ]
    }
   ],
   "source": [
    "class Node:\n",
    "    def __init__(self, k):\n",
    "        self.key = k\n",
    "        self.next = None\n",
    "        \n",
    "# Insert key at the Beginning of Circular Linkedlist\n",
    "def circular_linked_list_insert_beginning_eff(head, n):\n",
    "    \n",
    "    # Create the node n\n",
    "    temp = Node(n)\n",
    "    \n",
    "    if head == None:\n",
    "        head = temp\n",
    "        head.next = head\n",
    "        print(head.key, end = ' ')\n",
    "        # for circular confirmation\n",
    "        print(head.next.key)\n",
    "        return\n",
    "    \n",
    "    else:\n",
    "        temp.next = head.next\n",
    "        head.next = temp\n",
    "        head.key, temp.key = temp.key, head.key # Swap\n",
    "        \n",
    "        # Visualize\n",
    "        current = head\n",
    "        print(current.key, end = '-')\n",
    "        \n",
    "        while current.next != head:\n",
    "            print(current.next.key, end = '-')\n",
    "            current = current.next\n",
    "            \n",
    "    return\n",
    "    \n",
    "# Circular Linked List\n",
    "head = Node(4)\n",
    "head.next = Node(5)\n",
    "head.next.next = Node(6)\n",
    "head.next.next.next = head\n",
    "\n",
    "# Call\n",
    "circular_linked_list_insert_beginning_eff(head, 7)"
   ]
  },
  {
   "cell_type": "code",
   "execution_count": 64,
   "id": "8b37964b-9e22-4fe8-9253-95a6fb7e3c6c",
   "metadata": {},
   "outputs": [
    {
     "name": "stdout",
     "output_type": "stream",
     "text": [
      "7 7\n"
     ]
    }
   ],
   "source": [
    "head = None\n",
    "# Call\n",
    "circular_linked_list_insert_beginning_eff(head, 7)"
   ]
  },
  {
   "cell_type": "markdown",
   "id": "46b8cd29-7eb7-4bd2-b10f-10b5d33983a6",
   "metadata": {},
   "source": [
    "## Delete head of Circular Linked List\n",
    "\n",
    "Naive Solution: Time Complexity: $O(n)$"
   ]
  },
  {
   "cell_type": "code",
   "execution_count": 2,
   "id": "bfc2ee29-a4fd-4f64-922f-e7ab5b8d84b8",
   "metadata": {},
   "outputs": [
    {
     "name": "stdout",
     "output_type": "stream",
     "text": [
      "5-6-"
     ]
    }
   ],
   "source": [
    "class Node:\n",
    "    def __init__(self, k):\n",
    "        self.key = k\n",
    "        self.next = None\n",
    "        \n",
    "# Delete Head of Circular Linkedlist\n",
    "def circular_linked_list_delete_head(head):\n",
    "    \n",
    "    if head == None:\n",
    "        return 'None'\n",
    "    \n",
    "    elif head.next == head:\n",
    "        return 'None'\n",
    "    \n",
    "    else:\n",
    "        current = head\n",
    "        \n",
    "        while current.next != head:\n",
    "            print(current.next.key, end = '-')\n",
    "            current = current.next\n",
    "        \n",
    "        current.next = head.next\n",
    "        \n",
    "    \n",
    "# Linked List\n",
    "head = Node(4)\n",
    "head.next = Node(5)\n",
    "head.next.next = Node(6)\n",
    "head.next.next.next = head\n",
    "\n",
    "# Call\n",
    "circular_linked_list_delete_head(head)"
   ]
  },
  {
   "cell_type": "code",
   "execution_count": 3,
   "id": "e3b58f7a-33b0-4682-ae50-b6ec5b7f21b3",
   "metadata": {},
   "outputs": [
    {
     "name": "stdout",
     "output_type": "stream",
     "text": [
      "5-"
     ]
    }
   ],
   "source": [
    "# Linked List\n",
    "head = Node(4)\n",
    "head.next = Node(5)\n",
    "head.next.next = head\n",
    "\n",
    "# Call\n",
    "circular_linked_list_delete_head(head)"
   ]
  },
  {
   "cell_type": "code",
   "execution_count": 65,
   "id": "fe3c8d0f-31a8-4d92-a42c-457cd8d70929",
   "metadata": {},
   "outputs": [
    {
     "data": {
      "text/plain": [
       "'None'"
      ]
     },
     "execution_count": 65,
     "metadata": {},
     "output_type": "execute_result"
    }
   ],
   "source": [
    "# Linked List\n",
    "head = Node(4)\n",
    "head.next = head\n",
    "\n",
    "# Call\n",
    "circular_linked_list_delete_head(head)"
   ]
  },
  {
   "cell_type": "code",
   "execution_count": 66,
   "id": "56e4a0cd-4c6f-4ad9-823c-d8f81467da87",
   "metadata": {},
   "outputs": [
    {
     "data": {
      "text/plain": [
       "'None'"
      ]
     },
     "execution_count": 66,
     "metadata": {},
     "output_type": "execute_result"
    }
   ],
   "source": [
    "# Linked List\n",
    "head = None\n",
    "\n",
    "# Call\n",
    "circular_linked_list_delete_head(head)"
   ]
  },
  {
   "cell_type": "markdown",
   "id": "0a916b3f-915d-418e-a1c7-b6f5322473bb",
   "metadata": {},
   "source": [
    "---\n",
    "Efficient Solution"
   ]
  },
  {
   "cell_type": "code",
   "execution_count": 4,
   "id": "ff8f33a9-3489-42d5-a939-eb34d0f3b6ea",
   "metadata": {},
   "outputs": [
    {
     "name": "stdout",
     "output_type": "stream",
     "text": [
      "5-6-"
     ]
    }
   ],
   "source": [
    "class Node:\n",
    "    def __init__(self, k):\n",
    "        self.key = k\n",
    "        self.next = None\n",
    "        \n",
    "# Delete Head of Circular Linkedlist\n",
    "def circular_linked_list_delete_head_eff(head):\n",
    "    \n",
    "    if head == None:\n",
    "        return 'None'\n",
    "    \n",
    "    elif head.next == head:\n",
    "        return 'None'\n",
    "    \n",
    "    else:\n",
    "        head.key = head.next.key\n",
    "        head.next = head.next.next\n",
    "        \n",
    "        # Visualize\n",
    "        current = head\n",
    "        print(current.key, end = '-')\n",
    "        \n",
    "        while current.next != head:\n",
    "            print(current.next.key, end = '-')\n",
    "            current = current.next\n",
    "    \n",
    "# Linked List\n",
    "head = Node(4)\n",
    "head.next = Node(5)\n",
    "head.next.next = Node(6)\n",
    "head.next.next.next = head\n",
    "\n",
    "# Call\n",
    "circular_linked_list_delete_head_eff(head)"
   ]
  },
  {
   "cell_type": "code",
   "execution_count": 5,
   "id": "b9225805-8f05-4c61-828d-c667ea04965e",
   "metadata": {},
   "outputs": [
    {
     "name": "stdout",
     "output_type": "stream",
     "text": [
      "5-"
     ]
    }
   ],
   "source": [
    "# Linked List\n",
    "head = Node(4)\n",
    "head.next = Node(5)\n",
    "head.next.next = head\n",
    "\n",
    "# Call\n",
    "circular_linked_list_delete_head_eff(head)"
   ]
  },
  {
   "cell_type": "markdown",
   "id": "43bbb144-2bed-4dd9-90aa-c0be98751861",
   "metadata": {},
   "source": [
    "## Delete `n`th node of Circular Linked List"
   ]
  },
  {
   "cell_type": "code",
   "execution_count": 6,
   "id": "7918401c-2f4e-4799-89ec-48e870d66ece",
   "metadata": {},
   "outputs": [
    {
     "name": "stdout",
     "output_type": "stream",
     "text": [
      "4-6-"
     ]
    }
   ],
   "source": [
    "class Node:\n",
    "    def __init__(self, k):\n",
    "        self.key = k\n",
    "        self.next = None\n",
    "        \n",
    "# Delete 'n' th node of Circular Linkedlist\n",
    "def circular_linked_list_delete_n(head, n):    \n",
    "    if head == None:\n",
    "        return 'Nothing to delete'\n",
    "    \n",
    "    # Delete Head of Circular Linkedlist\n",
    "    elif n == 1:\n",
    "        if head.next == head:\n",
    "            return 'None'\n",
    "\n",
    "        else:\n",
    "            head.key = head.next.key\n",
    "            head.next = head.next.next\n",
    "    \n",
    "    # Delete nth node of Circular LinkedList\n",
    "    else:\n",
    "        current = head\n",
    "        \n",
    "        for i in range(n-2):\n",
    "            current = current.next\n",
    "        current.next = current.next.next\n",
    "        \n",
    "            \n",
    "    # Visualize\n",
    "    current = head\n",
    "    print(current.key, end = '-')\n",
    "\n",
    "    while current.next != head:\n",
    "        print(current.next.key, end = '-')\n",
    "        current = current.next      \n",
    "    \n",
    "# Circular Linked List\n",
    "head = Node(4)\n",
    "head.next = Node(5)\n",
    "head.next.next = Node(6)\n",
    "head.next.next.next = head\n",
    "\n",
    "# Call\n",
    "circular_linked_list_delete_n(head, 2)"
   ]
  },
  {
   "cell_type": "code",
   "execution_count": 7,
   "id": "989bd84a-71f9-4932-bfc4-dc1d35e02483",
   "metadata": {},
   "outputs": [
    {
     "name": "stdout",
     "output_type": "stream",
     "text": [
      "10-30-"
     ]
    }
   ],
   "source": [
    "# Circular Linked List\n",
    "head = Node(10)\n",
    "head.next = Node(20)\n",
    "head.next.next = Node(30)\n",
    "head.next.next.next = head\n",
    "\n",
    "# Call\n",
    "circular_linked_list_delete_n(head, 2)"
   ]
  },
  {
   "cell_type": "code",
   "execution_count": 8,
   "id": "049d3696-baa2-48dc-a818-7414505d75ea",
   "metadata": {},
   "outputs": [
    {
     "name": "stdout",
     "output_type": "stream",
     "text": [
      "20-30-"
     ]
    }
   ],
   "source": [
    "# Circular Linked List\n",
    "head = Node(10)\n",
    "head.next = Node(20)\n",
    "head.next.next = Node(30)\n",
    "head.next.next.next = head\n",
    "\n",
    "# Call\n",
    "circular_linked_list_delete_n(head, 1)"
   ]
  }
 ],
 "metadata": {
  "kernelspec": {
   "display_name": "Python 3 (ipykernel)",
   "language": "python",
   "name": "python3"
  },
  "language_info": {
   "codemirror_mode": {
    "name": "ipython",
    "version": 3
   },
   "file_extension": ".py",
   "mimetype": "text/x-python",
   "name": "python",
   "nbconvert_exporter": "python",
   "pygments_lexer": "ipython3",
   "version": "3.9.13"
  },
  "toc-autonumbering": false,
  "toc-showcode": false,
  "toc-showmarkdowntxt": false,
  "toc-showtags": false
 },
 "nbformat": 4,
 "nbformat_minor": 5
}
