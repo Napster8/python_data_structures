{
 "cells": [
  {
   "cell_type": "markdown",
   "id": "fa1f7be3-bdbd-4575-bfd6-c435894bfe4d",
   "metadata": {},
   "source": [
    "# Recursion\n",
    "\n",
    "In Direct Recursion, a function that calls itself. `Controlled Recursive function` is what we generally use. \n",
    "\n",
    "Meaning, we don't let the function call itself infinite number of times.\n",
    "\n",
    "## Applications of Recursion:\n",
    "\n",
    "1. Many algorithm techniques are based on Recursion.\n",
    "    1. Dynamic Programming.\n",
    "    2. Backtracking.\n",
    "    3. Divide and Conquer (Binary Search, Quick Sort and Merge Sort).\n",
    "\n",
    "2. Many problems inherantly recursive:\n",
    "    1. Tower or Hanoi.\n",
    "    2. DFS based traversals (DFS on Graphs, In-order/Pre-Order/Post-Order traversal of tree)."
   ]
  },
  {
   "cell_type": "code",
   "execution_count": 19,
   "id": "a66ab869-da01-449c-a3a6-1b06c9ec7007",
   "metadata": {},
   "outputs": [
    {
     "name": "stdout",
     "output_type": "stream",
     "text": [
      "5\n",
      "4\n",
      "3\n",
      "2\n",
      "1\n"
     ]
    }
   ],
   "source": [
    "def fun(counter):\n",
    "    if counter <= 0:\n",
    "        return;\n",
    "    \n",
    "    print(counter)\n",
    "    fun(counter-1)\n",
    "        \n",
    "fun(5)"
   ]
  },
  {
   "cell_type": "markdown",
   "id": "eeb4c6b2-99ea-4cb4-8780-7000e5b22428",
   "metadata": {},
   "source": [
    "## Problem 1 - Reverse Printing"
   ]
  },
  {
   "cell_type": "code",
   "execution_count": 35,
   "id": "917456f3-672b-4cb9-8931-9487cbfda2b0",
   "metadata": {},
   "outputs": [
    {
     "name": "stdout",
     "output_type": "stream",
     "text": [
      "normal ---> 4\n",
      "normal ---> 3\n",
      "normal ---> 2\n",
      "normal ---> 1\n",
      "reversed ---> 1\n",
      "reversed ---> 2\n",
      "reversed ---> 3\n",
      "reversed ---> 4\n"
     ]
    }
   ],
   "source": [
    "def fun(n):\n",
    "    \n",
    "    if n == 0:\n",
    "        return;\n",
    "    \n",
    "    print('normal --->', n)\n",
    "    fun(n-1)\n",
    "    print('reversed --->',n)\n",
    "\n",
    "fun(4)"
   ]
  },
  {
   "cell_type": "markdown",
   "id": "0f643533-e574-4987-ac39-edee660a34ca",
   "metadata": {},
   "source": [
    "### How it is working?"
   ]
  },
  {
   "cell_type": "code",
   "execution_count": 42,
   "id": "38eb2c4a-124c-4515-adb1-f48e9e21885b",
   "metadata": {},
   "outputs": [
    {
     "name": "stdout",
     "output_type": "stream",
     "text": [
      "start Function 4\n",
      "normal ---> 4\n",
      "start Function 3\n",
      "normal ---> 3\n",
      "start Function 2\n",
      "normal ---> 2\n",
      "start Function 1\n",
      "normal ---> 1\n",
      "start Function 0\n",
      "-------End-------\n",
      "reversed ---> 1\n",
      "reversed ---> 2\n",
      "reversed ---> 3\n",
      "reversed ---> 4\n"
     ]
    }
   ],
   "source": [
    "def fun(n):\n",
    "    print(f'start Function {n}')\n",
    "    \n",
    "    if n == 0:\n",
    "        print('-------End-------')\n",
    "        return;\n",
    "    \n",
    "    print('normal --->', n)\n",
    "    fun(n-1)\n",
    "    print('reversed --->',n)\n",
    "\n",
    "# recursive\n",
    "fun(4)"
   ]
  },
  {
   "cell_type": "markdown",
   "id": "8af155fa-2d07-456d-bfd5-11c8fcfc9f93",
   "metadata": {},
   "source": [
    "## Problem 2 - Mirror"
   ]
  },
  {
   "cell_type": "code",
   "execution_count": 77,
   "id": "b0241fb0-0033-4bf5-ad84-9bafce7efd38",
   "metadata": {},
   "outputs": [
    {
     "name": "stdout",
     "output_type": "stream",
     "text": [
      "121"
     ]
    }
   ],
   "source": [
    "def fun(n):\n",
    "    if n == 0:\n",
    "        return;\n",
    "    \n",
    "    fun(n-1)\n",
    "    print(n, end=\"\")\n",
    "    fun(n-1)\n",
    "\n",
    "# Call\n",
    "fun(2)"
   ]
  },
  {
   "cell_type": "code",
   "execution_count": 78,
   "id": "97e54a34-d52f-4d0f-838e-f50e6d0c8aa8",
   "metadata": {},
   "outputs": [
    {
     "name": "stdout",
     "output_type": "stream",
     "text": [
      "1213121"
     ]
    }
   ],
   "source": [
    "fun(3)"
   ]
  },
  {
   "cell_type": "code",
   "execution_count": 79,
   "id": "01c848be-92f8-4a10-8dea-e0ee26b64318",
   "metadata": {},
   "outputs": [
    {
     "name": "stdout",
     "output_type": "stream",
     "text": [
      "121312141213121"
     ]
    }
   ],
   "source": [
    "fun(4)"
   ]
  },
  {
   "cell_type": "markdown",
   "id": "f27fc5bb-e650-4273-a400-804f03c27d39",
   "metadata": {},
   "source": [
    "## Problem 3 - Logarithmic of a number\n",
    "\n",
    "What does the function do?\n",
    "\n",
    "$log_2 n$\n",
    "\n",
    "It works only for even numbers."
   ]
  },
  {
   "cell_type": "code",
   "execution_count": 15,
   "id": "46745546-18bc-4923-b1bd-e3726403fab5",
   "metadata": {},
   "outputs": [
    {
     "data": {
      "text/plain": [
       "4"
      ]
     },
     "execution_count": 15,
     "metadata": {},
     "output_type": "execute_result"
    }
   ],
   "source": [
    "def fun(n):\n",
    "    if n <= 1:\n",
    "        return 0\n",
    "    else:\n",
    "        return 1 + fun(n/2)\n",
    "\n",
    "# Call\n",
    "fun(16)"
   ]
  },
  {
   "cell_type": "markdown",
   "id": "315b4038-9453-4e8a-be33-0038e4994de4",
   "metadata": {},
   "source": [
    "Function is working this way\n",
    "\n",
    "    fun(16)-> 1 + fun(8)\n",
    "    fun(8)----> 1 + fun(4)\n",
    "    fun(4)--------> 1 + fun(2)\n",
    "    fun(2)------------> 1 + fun(1)\n",
    "    \n",
    "    fun(1)----------------> 0\n",
    "    \n",
    "    fun(2)------------> 1 + (0) = 1\n",
    "    fun(4)--------> 1 + (1) = 2\n",
    "    fun(8)----> 1 + (2) = 3\n",
    "    fun(16)-> 1 + (3) = 4"
   ]
  },
  {
   "cell_type": "code",
   "execution_count": 8,
   "id": "7d0f9aa0-1904-4281-adbb-16f40bfe76be",
   "metadata": {},
   "outputs": [
    {
     "name": "stdout",
     "output_type": "stream",
     "text": [
      "4.0\n"
     ]
    }
   ],
   "source": [
    "import math\n",
    "\n",
    "# Return the base-2 logarithm of different numbers\n",
    "print(math.log2(16))"
   ]
  },
  {
   "cell_type": "code",
   "execution_count": 11,
   "id": "6bbee25b-192b-4170-8c9c-e95797da074e",
   "metadata": {},
   "outputs": [
    {
     "name": "stdout",
     "output_type": "stream",
     "text": [
      "5.0\n"
     ]
    }
   ],
   "source": [
    "print(math.log2(32))"
   ]
  },
  {
   "cell_type": "code",
   "execution_count": 72,
   "id": "b1c7d26d-4451-4591-a952-0b9b54e91626",
   "metadata": {},
   "outputs": [
    {
     "name": "stdout",
     "output_type": "stream",
     "text": [
      "2.807354922057604\n"
     ]
    }
   ],
   "source": [
    "# It is not Technically perfect implementation. \n",
    "# But just a fun way.\n",
    "print(math.log2(7))"
   ]
  },
  {
   "cell_type": "markdown",
   "id": "8ebf4504-0b86-40ac-bbc4-9823af087527",
   "metadata": {},
   "source": [
    "## Problem 4 - Binary Representation of a number\n",
    "\n",
    "Works for positive numbers (numbers greater than 1 specifically)"
   ]
  },
  {
   "cell_type": "markdown",
   "id": "959a10f6-35ad-41e3-8c85-9149953f217e",
   "metadata": {},
   "source": [
    "* 0 - 01\n",
    "* 1 - 01\n",
    "* 2 - 10\n",
    "* 3 - 11\n",
    "* 4 - 100\n",
    "* 5 - 101\n",
    "* 6 - 110\n",
    "* 7 - 111\n",
    "* 8 - 1000\n",
    "* 9 - 1001\n"
   ]
  },
  {
   "cell_type": "code",
   "execution_count": 89,
   "id": "79c638c0-35f2-4798-aa62-6e5f1e02d43b",
   "metadata": {},
   "outputs": [
    {
     "name": "stdout",
     "output_type": "stream",
     "text": [
      "1000"
     ]
    }
   ],
   "source": [
    "def fun(x):\n",
    "    if x <= 1:\n",
    "        print(1, end=\"\")\n",
    "        return\n",
    "    \n",
    "    fun(x // 2)\n",
    "    print(x % 2, end=\"\")\n",
    "\n",
    "# Call\n",
    "fun(8)"
   ]
  },
  {
   "cell_type": "code",
   "execution_count": 68,
   "id": "0c49675f-445f-4eb5-9888-de75e478cf40",
   "metadata": {},
   "outputs": [
    {
     "name": "stdout",
     "output_type": "stream",
     "text": [
      "1001"
     ]
    }
   ],
   "source": [
    "fun(9)"
   ]
  },
  {
   "cell_type": "code",
   "execution_count": 69,
   "id": "786302fa-6f4e-4998-aefd-a38582b53995",
   "metadata": {},
   "outputs": [
    {
     "name": "stdout",
     "output_type": "stream",
     "text": [
      "11"
     ]
    }
   ],
   "source": [
    "fun(3)"
   ]
  },
  {
   "cell_type": "code",
   "execution_count": 70,
   "id": "7881b5b1-36f4-4245-baf2-bb425b92c4f1",
   "metadata": {},
   "outputs": [
    {
     "name": "stdout",
     "output_type": "stream",
     "text": [
      "100"
     ]
    }
   ],
   "source": [
    "fun(4)"
   ]
  },
  {
   "cell_type": "markdown",
   "id": "855aa2d6-e104-4ac5-8c35-8437d27cdd87",
   "metadata": {},
   "source": [
    "## Problem 5 - Sum of Natural Numbers\n",
    "\n",
    "Let's say there is a person who saves Rs. 1 on Day 1, Rs. 2 on Day 2, .... Rs. n on Day n. Find the total money saved after 10 days."
   ]
  },
  {
   "cell_type": "markdown",
   "id": "10143199-487c-4317-afb3-503e8fc4da51",
   "metadata": {},
   "source": [
    "### Direct and perfect solution\n",
    "\n",
    "When you think of time complexity, this is going to be most efficient solution."
   ]
  },
  {
   "cell_type": "code",
   "execution_count": 93,
   "id": "bcdaca3a-de4c-49bb-a2dd-80d8586c7330",
   "metadata": {},
   "outputs": [
    {
     "data": {
      "text/plain": [
       "3.0"
      ]
     },
     "execution_count": 93,
     "metadata": {},
     "output_type": "execute_result"
    }
   ],
   "source": [
    "def sum_of_n(n):\n",
    "    return (n * (n+1))/2;\n",
    "\n",
    "# Call --> 1 + 2 = 3\n",
    "sum_of_n(2)"
   ]
  },
  {
   "cell_type": "code",
   "execution_count": 94,
   "id": "e8b090e9-6c9f-4a53-8d73-730ce80a3f29",
   "metadata": {},
   "outputs": [
    {
     "data": {
      "text/plain": [
       "6.0"
      ]
     },
     "execution_count": 94,
     "metadata": {},
     "output_type": "execute_result"
    }
   ],
   "source": [
    "# 1 + 2 + 3\n",
    "sum_of_n(3)"
   ]
  },
  {
   "cell_type": "code",
   "execution_count": 104,
   "id": "c929ac95-6f19-4ae4-8214-d58bd61f74d8",
   "metadata": {},
   "outputs": [
    {
     "data": {
      "text/plain": [
       "15.0"
      ]
     },
     "execution_count": 104,
     "metadata": {},
     "output_type": "execute_result"
    }
   ],
   "source": [
    "# 1 + 2 + 3 + 4 + 5\n",
    "sum_of_n(5)"
   ]
  },
  {
   "cell_type": "code",
   "execution_count": 85,
   "id": "711c3ca7-3515-417d-adbb-9858bec67dfa",
   "metadata": {},
   "outputs": [
    {
     "data": {
      "text/plain": [
       "55.0"
      ]
     },
     "execution_count": 85,
     "metadata": {},
     "output_type": "execute_result"
    }
   ],
   "source": [
    "# 1 + 2 + 3 + 4 + 5\n",
    "sum_of_n(10)"
   ]
  },
  {
   "cell_type": "markdown",
   "id": "0d9b62e6-f6a4-49dd-a7b6-f3771602119a",
   "metadata": {},
   "source": [
    "### Using Recursion\n",
    "\n",
    "This method works only for numbers greater than 0."
   ]
  },
  {
   "cell_type": "code",
   "execution_count": 107,
   "id": "d9f8e8cb-03a2-4e8d-a52e-f965a6936b5b",
   "metadata": {},
   "outputs": [
    {
     "data": {
      "text/plain": [
       "3"
      ]
     },
     "execution_count": 107,
     "metadata": {},
     "output_type": "execute_result"
    }
   ],
   "source": [
    "def sum_using_recursion(n):\n",
    "    if n <= 0:\n",
    "        return n\n",
    "    else:\n",
    "        return n + (n-1)\n",
    "# Call \n",
    "# --> 3 + 2 + 1 \n",
    "# --> 5 + 1 = 6\n",
    "sum_using_recursion(2)"
   ]
  },
  {
   "cell_type": "markdown",
   "id": "21844405-aceb-4ad2-abd9-64082a72ea05",
   "metadata": {},
   "source": [
    "## Problem 6 - Print n to 1 using Recursion:\n",
    "\n",
    "Works only for positive numbers"
   ]
  },
  {
   "cell_type": "code",
   "execution_count": 121,
   "id": "5ede0dba-21d9-44ba-b33d-badf231caa17",
   "metadata": {},
   "outputs": [
    {
     "name": "stdout",
     "output_type": "stream",
     "text": [
      "10  9  8  7  6  5  4  3  2  1  "
     ]
    }
   ],
   "source": [
    "def recursion_n_to_1(n):\n",
    "    if n <= 0:\n",
    "        return\n",
    "    else:\n",
    "        print(n, end=\"  \")\n",
    "        return recursion_n_to_1(n-1)\n",
    "    \n",
    "recursion_n_to_1(10)"
   ]
  },
  {
   "cell_type": "code",
   "execution_count": 123,
   "id": "80dd687f-17f4-4c07-bbfc-30012710c671",
   "metadata": {},
   "outputs": [
    {
     "name": "stdout",
     "output_type": "stream",
     "text": [
      "7  6  5  4  3  2  1  "
     ]
    }
   ],
   "source": [
    "recursion_n_to_1(7)"
   ]
  },
  {
   "cell_type": "markdown",
   "id": "9ab09858-bfa1-4414-b154-e78be76f8667",
   "metadata": {},
   "source": [
    "## Problem 7 - Print 1 to n using Recursion:"
   ]
  },
  {
   "cell_type": "code",
   "execution_count": 135,
   "id": "edee7fa0-9c2d-4b8d-8478-b47ec423df5c",
   "metadata": {},
   "outputs": [
    {
     "name": "stdout",
     "output_type": "stream",
     "text": [
      "1  2  3  4  5  6  7  8  9  10  "
     ]
    }
   ],
   "source": [
    "def recursion_1_to_n(n):\n",
    "    if n <= 0:\n",
    "        return\n",
    "    else:\n",
    "        recursion_1_to_n(n-1)\n",
    "        print(n, end=\"  \")\n",
    "        return\n",
    "        \n",
    "recursion_1_to_n(10)"
   ]
  },
  {
   "cell_type": "code",
   "execution_count": 136,
   "id": "d0bbbd61-a6f0-4265-b736-258925d500dd",
   "metadata": {},
   "outputs": [
    {
     "name": "stdout",
     "output_type": "stream",
     "text": [
      "1  2  3  4  5  6  7  "
     ]
    }
   ],
   "source": [
    "recursion_1_to_n(7)"
   ]
  },
  {
   "cell_type": "markdown",
   "id": "cf9112fc-6385-48f8-ae65-c34b6d8785cc",
   "metadata": {},
   "source": [
    "## Problem 8 - Print sum of digits using Recursion:\n",
    "\n",
    "Input: n = 2045\n",
    "\n",
    "Output: 11\n",
    "\n",
    "\n",
    "Input: n = 9145\n",
    "\n",
    "Output: 19"
   ]
  },
  {
   "cell_type": "code",
   "execution_count": 6,
   "id": "123e6cce-6a9d-4c67-ab70-37317bb91b15",
   "metadata": {},
   "outputs": [
    {
     "data": {
      "text/plain": [
       "19"
      ]
     },
     "execution_count": 6,
     "metadata": {},
     "output_type": "execute_result"
    }
   ],
   "source": [
    "def recursion_sum(n):\n",
    "    if n <= 10:\n",
    "        return n\n",
    "    else:\n",
    "        return recursion_sum(n//10) + n % 10\n",
    "\n",
    "# Call\n",
    "recursion_sum(9145)"
   ]
  },
  {
   "cell_type": "markdown",
   "id": "868f4981-5d46-468b-bcb9-fbb048c10813",
   "metadata": {},
   "source": [
    "### How it works?\n",
    "\n",
    "    recursion_sum(9145)\n",
    "    ---->recursion_sum(914) + 5\n",
    "    -------->recursion_sum(91) + 4\n",
    "    ------------>recursion_sum(9) + 1\n",
    "    ---------> since 9 < 1, function returns 9, so 9 + 1 = 10\n",
    "    -----> 10 + 4 = 14\n",
    "    ---> 14 + 5 = 19"
   ]
  },
  {
   "cell_type": "code",
   "execution_count": 4,
   "id": "335f942d-ae3c-48c8-a5a0-976ea612ea99",
   "metadata": {},
   "outputs": [
    {
     "name": "stdout",
     "output_type": "stream",
     "text": [
      "--Floor Division--\n",
      "2195\n",
      "1097\n",
      "219\n",
      "21\n",
      "2\n"
     ]
    }
   ],
   "source": [
    "# How it works\n",
    "print('--Floor Division--')\n",
    "print(2195 // 1)\n",
    "print(2195 // 2)\n",
    "print(2195 // 10)\n",
    "print(2195 // 100)\n",
    "print(2195 // 1000)\n"
   ]
  },
  {
   "cell_type": "code",
   "execution_count": 5,
   "id": "f7c8d734-cc37-43a2-98e1-8d198f660b24",
   "metadata": {},
   "outputs": [
    {
     "name": "stdout",
     "output_type": "stream",
     "text": [
      "--Remainder--\n",
      "0\n",
      "1\n",
      "5\n",
      "95\n",
      "195\n"
     ]
    }
   ],
   "source": [
    "print('--Remainder--')\n",
    "print(2195 % 1)\n",
    "print(2195 % 2)\n",
    "print(2195 % 10)\n",
    "print(2195 % 100)\n",
    "print(2195 % 1000)"
   ]
  },
  {
   "cell_type": "markdown",
   "id": "e445b666-2e18-4213-af7d-e32d7b71e088",
   "metadata": {
    "tags": []
   },
   "source": [
    "## Final: Tower of Hanoi using Recursion\n",
    "\n",
    "Input: n = 1\n",
    "Ouput: \n",
    "* Move Disc 1 from A to C\n",
    "\n",
    "---\n",
    "\n",
    "Input: n = 2\n",
    "Output: \n",
    "* Move Disc 1 from A to B\n",
    "* Move Disc 2 from A to C\n",
    "* Move Disc 1 from B to C\n",
    "\n",
    "---\n",
    "\n",
    "Input: n = 3\n",
    "Output: \n",
    "1. Move Disc 1 from A to C\n",
    "2. Move Disc 2 from A to B\n",
    "3. Move Disc 1 from C to B\n",
    "4. Move Disc 3 from A to C\n",
    "5. Move Disc 1 from B to A\n",
    "6. Move Disc 2 from B to C\n",
    "7. Move Disc 1 from A to C\n",
    "\n",
    "Rules:\n",
    "1. Only one moves at a time.\n",
    "2. No larger disc above the smaller.\n",
    "3. Only the Top Disc of a tower can be moved.\n",
    "\n"
   ]
  },
  {
   "cell_type": "code",
   "execution_count": 42,
   "id": "02bf261e-780a-4394-a9fa-713bfb60b162",
   "metadata": {},
   "outputs": [
    {
     "name": "stdout",
     "output_type": "stream",
     "text": [
      "Move 1 from  a to b\n",
      "Move 2 from  c to b\n",
      "Move 1 from  b to c\n",
      "Total Number of Moves: 3\n"
     ]
    }
   ],
   "source": [
    "counter = 0\n",
    "\n",
    "def toh(n, a, b, c):\n",
    "    global counter\n",
    "    \n",
    "    if n == 1:\n",
    "        print(\"Move 1 from \", a, \"to\", c)\n",
    "        counter += 1\n",
    "    else:\n",
    "        toh(n-1, a, c, b)\n",
    "        print(\"Move\", n, \"from \", c, \"to\", b)\n",
    "        toh(n-1, b, a, c)\n",
    "        counter += 1\n",
    "\n",
    "toh(2, 'a', 'b', 'c')\n",
    "print('Total Number of Moves:', counter)"
   ]
  },
  {
   "cell_type": "code",
   "execution_count": 41,
   "id": "3247b5db-18a3-4fca-9d8d-bd4adc69fa3f",
   "metadata": {},
   "outputs": [
    {
     "name": "stdout",
     "output_type": "stream",
     "text": [
      "Move 1 from  a to c\n",
      "Move 2 from  b to c\n",
      "Move 1 from  c to b\n",
      "Move 3 from  c to b\n",
      "Move 1 from  b to a\n",
      "Move 2 from  c to a\n",
      "Move 1 from  a to c\n",
      "Total Number of Moves: 24\n"
     ]
    }
   ],
   "source": [
    "toh(3, 'a', 'b', 'c')\n",
    "print('Total Number of Moves:', counter)"
   ]
  },
  {
   "cell_type": "code",
   "execution_count": 43,
   "id": "f54e0ad2-b45c-4c50-8aba-acc4dd5e8fa7",
   "metadata": {},
   "outputs": [
    {
     "name": "stdout",
     "output_type": "stream",
     "text": [
      "Move 1 from  a to b\n",
      "Move 2 from  c to b\n",
      "Move 1 from  b to c\n",
      "Move 3 from  b to c\n",
      "Move 1 from  c to a\n",
      "Move 2 from  b to a\n",
      "Move 1 from  a to b\n",
      "Move 4 from  c to b\n",
      "Move 1 from  b to c\n",
      "Move 2 from  a to c\n",
      "Move 1 from  c to a\n",
      "Move 3 from  c to a\n",
      "Move 1 from  a to b\n",
      "Move 2 from  c to b\n",
      "Move 1 from  b to c\n",
      "Total Number of Moves: 18\n"
     ]
    }
   ],
   "source": [
    "toh(4, 'a', 'b', 'c')\n",
    "print('Total Number of Moves:', counter)"
   ]
  },
  {
   "cell_type": "code",
   "execution_count": 44,
   "id": "c23650fa-c625-459e-9ad3-28e2358d7128",
   "metadata": {
    "collapsed": true,
    "jupyter": {
     "outputs_hidden": true
    },
    "tags": []
   },
   "outputs": [
    {
     "name": "stdout",
     "output_type": "stream",
     "text": [
      "Move 1 from  a to c\n",
      "Move 2 from  b to c\n",
      "Move 1 from  c to b\n",
      "Move 3 from  c to b\n",
      "Move 1 from  b to a\n",
      "Move 2 from  c to a\n",
      "Move 1 from  a to c\n",
      "Move 4 from  b to c\n",
      "Move 1 from  c to b\n",
      "Move 2 from  a to b\n",
      "Move 1 from  b to a\n",
      "Move 3 from  b to a\n",
      "Move 1 from  a to c\n",
      "Move 2 from  b to c\n",
      "Move 1 from  c to b\n",
      "Move 5 from  c to b\n",
      "Move 1 from  b to a\n",
      "Move 2 from  c to a\n",
      "Move 1 from  a to c\n",
      "Move 3 from  a to c\n",
      "Move 1 from  c to b\n",
      "Move 2 from  a to b\n",
      "Move 1 from  b to a\n",
      "Move 4 from  c to a\n",
      "Move 1 from  a to c\n",
      "Move 2 from  b to c\n",
      "Move 1 from  c to b\n",
      "Move 3 from  c to b\n",
      "Move 1 from  b to a\n",
      "Move 2 from  c to a\n",
      "Move 1 from  a to c\n",
      "Total Number of Moves: 49\n"
     ]
    }
   ],
   "source": [
    "toh(5, 'a', 'b', 'c')\n",
    "print('Total Number of Moves:', counter)"
   ]
  },
  {
   "cell_type": "markdown",
   "id": "6bb79fa7-9522-4c9a-9047-c937f8e7a87b",
   "metadata": {},
   "source": [
    "## Final: Josephus Problem\n",
    "\n",
    "`n` people standing in a circle, and every `k`th person kills themselves with a knife. Choose the position in the initial circle to avoid execution.\n",
    "\n",
    "Find the initial position of the survivor.\n",
    "\n",
    "* Input: n = 7, k = 3\n",
    "* Output: 4\n",
    "\n"
   ]
  },
  {
   "cell_type": "code",
   "execution_count": null,
   "id": "618d476c-3dca-46e1-be16-8b6e5c7ea8fb",
   "metadata": {},
   "outputs": [
    {
     "data": {
      "text/plain": [
       "0"
      ]
     },
     "execution_count": 111,
     "metadata": {},
     "output_type": "execute_result"
    }
   ],
   "source": [
    "10 % 2"
   ]
  },
  {
   "cell_type": "code",
   "execution_count": null,
   "id": "2ba2e23b-147a-46ff-95eb-e0ee66e69d34",
   "metadata": {},
   "outputs": [
    {
     "data": {
      "text/plain": [
       "1"
      ]
     },
     "execution_count": 110,
     "metadata": {},
     "output_type": "execute_result"
    }
   ],
   "source": [
    "10 % 3"
   ]
  },
  {
   "cell_type": "code",
   "execution_count": 112,
   "id": "5a5f3527-7513-49d2-b310-698174d37b47",
   "metadata": {},
   "outputs": [
    {
     "data": {
      "text/plain": [
       "3"
      ]
     },
     "execution_count": 112,
     "metadata": {},
     "output_type": "execute_result"
    }
   ],
   "source": [
    "10 % 7"
   ]
  },
  {
   "cell_type": "code",
   "execution_count": 148,
   "id": "7dcaf1ae-cbe1-4374-bad0-ec7925085bfc",
   "metadata": {},
   "outputs": [
    {
     "name": "stdout",
     "output_type": "stream",
     "text": [
      "List of Initial People: [1, 2, 3, 4, 5, 6, 7]\n",
      "\n",
      "Person 3 killed himself. Survivors = [1, 2, 4, 5, 6, 7]\n",
      "(2 + 2) % 6 = 4\n",
      "\n",
      "Person 6 killed himself. Survivors = [1, 2, 4, 5, 7]\n",
      "(4 + 2) % 5 = 1\n",
      "\n",
      "Person 2 killed himself. Survivors = [1, 4, 5, 7]\n",
      "(1 + 2) % 4 = 3\n",
      "\n",
      "Person 7 killed himself. Survivors = [1, 4, 5]\n",
      "(3 + 2) % 3 = 2\n",
      "\n",
      "Person 5 killed himself. Survivors = [1, 4]\n",
      "(2 + 2) % 2 = 0\n",
      "\n",
      "Person 1 killed himself. Survivors = [4]\n",
      "(0 + 2) % 1 = 0\n",
      "\n",
      "Last Survivor:  4\n",
      "None\n"
     ]
    }
   ],
   "source": [
    "def josephus_1(n, k):\n",
    "    k = k - 1\n",
    "    index = k\n",
    "    people = list(range(1, n+1))\n",
    "    order_of_elim = []\n",
    "    \n",
    "    print(f'List of Initial People: {people}\\n')\n",
    "    \n",
    "    # Loop Begins\n",
    "    while len(people) > 1:\n",
    "        r people.pop(index)\n",
    "        print(f'Person {people.pop(index)} killed himself. Survivors = {people}')\n",
    "        \n",
    "        x = (index + k) % len(people)\n",
    "        print(f'({index} + {k}) % {len(people)} = {x}\\n')\n",
    "        index = (index + k) % len(people)\n",
    "        \n",
    "    # Loop Ends\n",
    "    print('Last Survivor: ', people[0])\n",
    "\n",
    "print(josephus_1(7, 3))"
   ]
  },
  {
   "cell_type": "markdown",
   "id": "dc52a85d-bd95-4bda-b613-263595c85d88",
   "metadata": {},
   "source": [
    "* 0 1 2 3 4 5 6 ----> Index\n",
    "* 1 2 3 4 5 6 7 ----> Step 0, All Survivors\n",
    "* 1 2 `3` 4 5 `6` 7   ----> Step 1, 3 is killed\n",
    "* 1 `2` 4 5 7     ----> Step 2, 2 is killed\n",
    "* 1 4 5 `7`       ----> Step 3, 7 is killed\n",
    "* 1 4 `5`         ----> Step 4, 5 is killed\n",
    "* `1` 4 ----> Step 5,  1 is killed\n",
    "* 4 ----> Step 6, sole survivor\n",
    "\n",
    "* 3 6 1 7 5 2 4 ----> Order of Elimination"
   ]
  },
  {
   "cell_type": "code",
   "execution_count": 104,
   "id": "cbd15c2c-cf00-44d5-a410-d1c56afee15d",
   "metadata": {},
   "outputs": [
    {
     "name": "stdout",
     "output_type": "stream",
     "text": [
      "7 Initial Survivors: [1, 2, 3, 4, 5, 6, 7]\n",
      "\n",
      "6 Survivors = [1, 2, 4, 5, 7], Killed = [3, 6]\n",
      "\n",
      "5 Survivors = [1, 2, 5, 7], Killed = [3, 6, 4]\n",
      "\n",
      "4 Survivors = [1, 2, 7], Killed = [3, 6, 4, 5]\n",
      "\n",
      "3 Survivors = [1, 2], Killed = [3, 6, 4, 5, 7]\n",
      "\n",
      "2 Survivors = [1, 2], Killed = [3, 6, 4, 5, 7]\n",
      "\n",
      "1 Survivors = [1, 2], Killed = [3, 6, 4, 5, 7]\n",
      "\n",
      "0 Survivors = [1, 2], Killed = [3, 6, 4, 5, 7]\n",
      "\n"
     ]
    }
   ],
   "source": [
    "n = 7\n",
    "k = 3\n",
    "\n",
    "killed_list = []\n",
    "survivors = list(range(1, n+1))\n",
    "x = len(survivors)\n",
    "\n",
    "print(f'{x} Initial Survivors: {survivors}\\n')\n",
    "\n",
    "while x >= 1:\n",
    "    killed_list.extend(survivors[k-1::k])\n",
    "\n",
    "    set1 = set(survivors)\n",
    "    set2 = set(killed_list)\n",
    "    survivors = list(set1 - set2)\n",
    "    x = x - 1\n",
    "    #k = k-1\n",
    "    print(f'{x} Survivors = {survivors}, Killed = {killed_list}\\n')"
   ]
  },
  {
   "cell_type": "code",
   "execution_count": 95,
   "id": "1ecbd6d9-bc02-4278-bfcc-89586eaa340b",
   "metadata": {},
   "outputs": [
    {
     "data": {
      "text/plain": [
       "3"
      ]
     },
     "execution_count": 95,
     "metadata": {},
     "output_type": "execute_result"
    }
   ],
   "source": [
    "def jose(n, k):\n",
    "    if n == 1:\n",
    "        return 0\n",
    "    else:\n",
    "        return (jose(n-1, k) + k) % n\n",
    "\n",
    "jose(7, 3)"
   ]
  },
  {
   "cell_type": "code",
   "execution_count": null,
   "id": "d68d83ee-90e1-4f65-915a-4dbe497f7ffc",
   "metadata": {},
   "outputs": [],
   "source": []
  }
 ],
 "metadata": {
  "kernelspec": {
   "display_name": "Python 3 (ipykernel)",
   "language": "python",
   "name": "python3"
  },
  "language_info": {
   "codemirror_mode": {
    "name": "ipython",
    "version": 3
   },
   "file_extension": ".py",
   "mimetype": "text/x-python",
   "name": "python",
   "nbconvert_exporter": "python",
   "pygments_lexer": "ipython3",
   "version": "3.9.13"
  },
  "toc-showcode": false
 },
 "nbformat": 4,
 "nbformat_minor": 5
}
